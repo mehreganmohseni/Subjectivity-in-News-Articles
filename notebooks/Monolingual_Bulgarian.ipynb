{
  "nbformat": 4,
  "nbformat_minor": 0,
  "metadata": {
    "colab": {
      "provenance": [],
      "gpuType": "T4"
    },
    "kernelspec": {
      "name": "python3",
      "display_name": "Python 3"
    },
    "language_info": {
      "name": "python"
    },
    "accelerator": "GPU",
    "widgets": {
      "application/vnd.jupyter.widget-state+json": {
        "ba361f948a4249878aa39d1d30a2c7e4": {
          "model_module": "@jupyter-widgets/controls",
          "model_name": "HBoxModel",
          "model_module_version": "1.5.0",
          "state": {
            "_dom_classes": [],
            "_model_module": "@jupyter-widgets/controls",
            "_model_module_version": "1.5.0",
            "_model_name": "HBoxModel",
            "_view_count": null,
            "_view_module": "@jupyter-widgets/controls",
            "_view_module_version": "1.5.0",
            "_view_name": "HBoxView",
            "box_style": "",
            "children": [
              "IPY_MODEL_b60a8aa2e9b94c018bc75dfe16850699",
              "IPY_MODEL_4f3cc63b17ce4990a65c390084f0b12b",
              "IPY_MODEL_6579225c1adb40d885aa54a96f3c6d43"
            ],
            "layout": "IPY_MODEL_4032f9c418db466b97246aad65e94068"
          }
        },
        "b60a8aa2e9b94c018bc75dfe16850699": {
          "model_module": "@jupyter-widgets/controls",
          "model_name": "HTMLModel",
          "model_module_version": "1.5.0",
          "state": {
            "_dom_classes": [],
            "_model_module": "@jupyter-widgets/controls",
            "_model_module_version": "1.5.0",
            "_model_name": "HTMLModel",
            "_view_count": null,
            "_view_module": "@jupyter-widgets/controls",
            "_view_module_version": "1.5.0",
            "_view_name": "HTMLView",
            "description": "",
            "description_tooltip": null,
            "layout": "IPY_MODEL_0c6fa134cc1a431f9ffeb408d52840ef",
            "placeholder": "​",
            "style": "IPY_MODEL_0ae3b9650c4f4858bdb5743929a59893",
            "value": "Map: 100%"
          }
        },
        "4f3cc63b17ce4990a65c390084f0b12b": {
          "model_module": "@jupyter-widgets/controls",
          "model_name": "FloatProgressModel",
          "model_module_version": "1.5.0",
          "state": {
            "_dom_classes": [],
            "_model_module": "@jupyter-widgets/controls",
            "_model_module_version": "1.5.0",
            "_model_name": "FloatProgressModel",
            "_view_count": null,
            "_view_module": "@jupyter-widgets/controls",
            "_view_module_version": "1.5.0",
            "_view_name": "ProgressView",
            "bar_style": "success",
            "description": "",
            "description_tooltip": null,
            "layout": "IPY_MODEL_8e144dd427f84280a533f00b74ed5d22",
            "max": 691,
            "min": 0,
            "orientation": "horizontal",
            "style": "IPY_MODEL_b8c32bafc05c43e7ab124c3f58e48948",
            "value": 691
          }
        },
        "6579225c1adb40d885aa54a96f3c6d43": {
          "model_module": "@jupyter-widgets/controls",
          "model_name": "HTMLModel",
          "model_module_version": "1.5.0",
          "state": {
            "_dom_classes": [],
            "_model_module": "@jupyter-widgets/controls",
            "_model_module_version": "1.5.0",
            "_model_name": "HTMLModel",
            "_view_count": null,
            "_view_module": "@jupyter-widgets/controls",
            "_view_module_version": "1.5.0",
            "_view_name": "HTMLView",
            "description": "",
            "description_tooltip": null,
            "layout": "IPY_MODEL_b4f8765623874691b517b50fe9cd9f6d",
            "placeholder": "​",
            "style": "IPY_MODEL_ff275d0947fa476ab20cb8a83a37c9e1",
            "value": " 691/691 [00:00&lt;00:00, 2400.35 examples/s]"
          }
        },
        "4032f9c418db466b97246aad65e94068": {
          "model_module": "@jupyter-widgets/base",
          "model_name": "LayoutModel",
          "model_module_version": "1.2.0",
          "state": {
            "_model_module": "@jupyter-widgets/base",
            "_model_module_version": "1.2.0",
            "_model_name": "LayoutModel",
            "_view_count": null,
            "_view_module": "@jupyter-widgets/base",
            "_view_module_version": "1.2.0",
            "_view_name": "LayoutView",
            "align_content": null,
            "align_items": null,
            "align_self": null,
            "border": null,
            "bottom": null,
            "display": null,
            "flex": null,
            "flex_flow": null,
            "grid_area": null,
            "grid_auto_columns": null,
            "grid_auto_flow": null,
            "grid_auto_rows": null,
            "grid_column": null,
            "grid_gap": null,
            "grid_row": null,
            "grid_template_areas": null,
            "grid_template_columns": null,
            "grid_template_rows": null,
            "height": null,
            "justify_content": null,
            "justify_items": null,
            "left": null,
            "margin": null,
            "max_height": null,
            "max_width": null,
            "min_height": null,
            "min_width": null,
            "object_fit": null,
            "object_position": null,
            "order": null,
            "overflow": null,
            "overflow_x": null,
            "overflow_y": null,
            "padding": null,
            "right": null,
            "top": null,
            "visibility": null,
            "width": null
          }
        },
        "0c6fa134cc1a431f9ffeb408d52840ef": {
          "model_module": "@jupyter-widgets/base",
          "model_name": "LayoutModel",
          "model_module_version": "1.2.0",
          "state": {
            "_model_module": "@jupyter-widgets/base",
            "_model_module_version": "1.2.0",
            "_model_name": "LayoutModel",
            "_view_count": null,
            "_view_module": "@jupyter-widgets/base",
            "_view_module_version": "1.2.0",
            "_view_name": "LayoutView",
            "align_content": null,
            "align_items": null,
            "align_self": null,
            "border": null,
            "bottom": null,
            "display": null,
            "flex": null,
            "flex_flow": null,
            "grid_area": null,
            "grid_auto_columns": null,
            "grid_auto_flow": null,
            "grid_auto_rows": null,
            "grid_column": null,
            "grid_gap": null,
            "grid_row": null,
            "grid_template_areas": null,
            "grid_template_columns": null,
            "grid_template_rows": null,
            "height": null,
            "justify_content": null,
            "justify_items": null,
            "left": null,
            "margin": null,
            "max_height": null,
            "max_width": null,
            "min_height": null,
            "min_width": null,
            "object_fit": null,
            "object_position": null,
            "order": null,
            "overflow": null,
            "overflow_x": null,
            "overflow_y": null,
            "padding": null,
            "right": null,
            "top": null,
            "visibility": null,
            "width": null
          }
        },
        "0ae3b9650c4f4858bdb5743929a59893": {
          "model_module": "@jupyter-widgets/controls",
          "model_name": "DescriptionStyleModel",
          "model_module_version": "1.5.0",
          "state": {
            "_model_module": "@jupyter-widgets/controls",
            "_model_module_version": "1.5.0",
            "_model_name": "DescriptionStyleModel",
            "_view_count": null,
            "_view_module": "@jupyter-widgets/base",
            "_view_module_version": "1.2.0",
            "_view_name": "StyleView",
            "description_width": ""
          }
        },
        "8e144dd427f84280a533f00b74ed5d22": {
          "model_module": "@jupyter-widgets/base",
          "model_name": "LayoutModel",
          "model_module_version": "1.2.0",
          "state": {
            "_model_module": "@jupyter-widgets/base",
            "_model_module_version": "1.2.0",
            "_model_name": "LayoutModel",
            "_view_count": null,
            "_view_module": "@jupyter-widgets/base",
            "_view_module_version": "1.2.0",
            "_view_name": "LayoutView",
            "align_content": null,
            "align_items": null,
            "align_self": null,
            "border": null,
            "bottom": null,
            "display": null,
            "flex": null,
            "flex_flow": null,
            "grid_area": null,
            "grid_auto_columns": null,
            "grid_auto_flow": null,
            "grid_auto_rows": null,
            "grid_column": null,
            "grid_gap": null,
            "grid_row": null,
            "grid_template_areas": null,
            "grid_template_columns": null,
            "grid_template_rows": null,
            "height": null,
            "justify_content": null,
            "justify_items": null,
            "left": null,
            "margin": null,
            "max_height": null,
            "max_width": null,
            "min_height": null,
            "min_width": null,
            "object_fit": null,
            "object_position": null,
            "order": null,
            "overflow": null,
            "overflow_x": null,
            "overflow_y": null,
            "padding": null,
            "right": null,
            "top": null,
            "visibility": null,
            "width": null
          }
        },
        "b8c32bafc05c43e7ab124c3f58e48948": {
          "model_module": "@jupyter-widgets/controls",
          "model_name": "ProgressStyleModel",
          "model_module_version": "1.5.0",
          "state": {
            "_model_module": "@jupyter-widgets/controls",
            "_model_module_version": "1.5.0",
            "_model_name": "ProgressStyleModel",
            "_view_count": null,
            "_view_module": "@jupyter-widgets/base",
            "_view_module_version": "1.2.0",
            "_view_name": "StyleView",
            "bar_color": null,
            "description_width": ""
          }
        },
        "b4f8765623874691b517b50fe9cd9f6d": {
          "model_module": "@jupyter-widgets/base",
          "model_name": "LayoutModel",
          "model_module_version": "1.2.0",
          "state": {
            "_model_module": "@jupyter-widgets/base",
            "_model_module_version": "1.2.0",
            "_model_name": "LayoutModel",
            "_view_count": null,
            "_view_module": "@jupyter-widgets/base",
            "_view_module_version": "1.2.0",
            "_view_name": "LayoutView",
            "align_content": null,
            "align_items": null,
            "align_self": null,
            "border": null,
            "bottom": null,
            "display": null,
            "flex": null,
            "flex_flow": null,
            "grid_area": null,
            "grid_auto_columns": null,
            "grid_auto_flow": null,
            "grid_auto_rows": null,
            "grid_column": null,
            "grid_gap": null,
            "grid_row": null,
            "grid_template_areas": null,
            "grid_template_columns": null,
            "grid_template_rows": null,
            "height": null,
            "justify_content": null,
            "justify_items": null,
            "left": null,
            "margin": null,
            "max_height": null,
            "max_width": null,
            "min_height": null,
            "min_width": null,
            "object_fit": null,
            "object_position": null,
            "order": null,
            "overflow": null,
            "overflow_x": null,
            "overflow_y": null,
            "padding": null,
            "right": null,
            "top": null,
            "visibility": null,
            "width": null
          }
        },
        "ff275d0947fa476ab20cb8a83a37c9e1": {
          "model_module": "@jupyter-widgets/controls",
          "model_name": "DescriptionStyleModel",
          "model_module_version": "1.5.0",
          "state": {
            "_model_module": "@jupyter-widgets/controls",
            "_model_module_version": "1.5.0",
            "_model_name": "DescriptionStyleModel",
            "_view_count": null,
            "_view_module": "@jupyter-widgets/base",
            "_view_module_version": "1.2.0",
            "_view_name": "StyleView",
            "description_width": ""
          }
        },
        "1dde5b5809d74ea8a832fd981a62befc": {
          "model_module": "@jupyter-widgets/controls",
          "model_name": "HBoxModel",
          "model_module_version": "1.5.0",
          "state": {
            "_dom_classes": [],
            "_model_module": "@jupyter-widgets/controls",
            "_model_module_version": "1.5.0",
            "_model_name": "HBoxModel",
            "_view_count": null,
            "_view_module": "@jupyter-widgets/controls",
            "_view_module_version": "1.5.0",
            "_view_name": "HBoxView",
            "box_style": "",
            "children": [
              "IPY_MODEL_37685ef289af48cfb6a22cf3aeca1c90",
              "IPY_MODEL_b5f54d29e85442bba6228912ff3bc89d",
              "IPY_MODEL_18f77407b8ab4007877cb8fb60a17c7d"
            ],
            "layout": "IPY_MODEL_4033e034d10542cd8e71272e28dfdd0c"
          }
        },
        "37685ef289af48cfb6a22cf3aeca1c90": {
          "model_module": "@jupyter-widgets/controls",
          "model_name": "HTMLModel",
          "model_module_version": "1.5.0",
          "state": {
            "_dom_classes": [],
            "_model_module": "@jupyter-widgets/controls",
            "_model_module_version": "1.5.0",
            "_model_name": "HTMLModel",
            "_view_count": null,
            "_view_module": "@jupyter-widgets/controls",
            "_view_module_version": "1.5.0",
            "_view_name": "HTMLView",
            "description": "",
            "description_tooltip": null,
            "layout": "IPY_MODEL_f2cd69d74e0e4e8c8b3a112bd67c3172",
            "placeholder": "​",
            "style": "IPY_MODEL_8807eb33924f4b76b2368810c3d398be",
            "value": "Map: 100%"
          }
        },
        "b5f54d29e85442bba6228912ff3bc89d": {
          "model_module": "@jupyter-widgets/controls",
          "model_name": "FloatProgressModel",
          "model_module_version": "1.5.0",
          "state": {
            "_dom_classes": [],
            "_model_module": "@jupyter-widgets/controls",
            "_model_module_version": "1.5.0",
            "_model_name": "FloatProgressModel",
            "_view_count": null,
            "_view_module": "@jupyter-widgets/controls",
            "_view_module_version": "1.5.0",
            "_view_name": "ProgressView",
            "bar_style": "success",
            "description": "",
            "description_tooltip": null,
            "layout": "IPY_MODEL_b737245e148645a29fd934a39b8fa8b6",
            "max": 306,
            "min": 0,
            "orientation": "horizontal",
            "style": "IPY_MODEL_7e9cf7ecf5694ceab7e75b5ca3eb33bb",
            "value": 306
          }
        },
        "18f77407b8ab4007877cb8fb60a17c7d": {
          "model_module": "@jupyter-widgets/controls",
          "model_name": "HTMLModel",
          "model_module_version": "1.5.0",
          "state": {
            "_dom_classes": [],
            "_model_module": "@jupyter-widgets/controls",
            "_model_module_version": "1.5.0",
            "_model_name": "HTMLModel",
            "_view_count": null,
            "_view_module": "@jupyter-widgets/controls",
            "_view_module_version": "1.5.0",
            "_view_name": "HTMLView",
            "description": "",
            "description_tooltip": null,
            "layout": "IPY_MODEL_a9aac1fc3e8042fb85e08eed4396956f",
            "placeholder": "​",
            "style": "IPY_MODEL_01e9fbba87e7411b90cd66e099f40864",
            "value": " 306/306 [00:00&lt;00:00, 2398.08 examples/s]"
          }
        },
        "4033e034d10542cd8e71272e28dfdd0c": {
          "model_module": "@jupyter-widgets/base",
          "model_name": "LayoutModel",
          "model_module_version": "1.2.0",
          "state": {
            "_model_module": "@jupyter-widgets/base",
            "_model_module_version": "1.2.0",
            "_model_name": "LayoutModel",
            "_view_count": null,
            "_view_module": "@jupyter-widgets/base",
            "_view_module_version": "1.2.0",
            "_view_name": "LayoutView",
            "align_content": null,
            "align_items": null,
            "align_self": null,
            "border": null,
            "bottom": null,
            "display": null,
            "flex": null,
            "flex_flow": null,
            "grid_area": null,
            "grid_auto_columns": null,
            "grid_auto_flow": null,
            "grid_auto_rows": null,
            "grid_column": null,
            "grid_gap": null,
            "grid_row": null,
            "grid_template_areas": null,
            "grid_template_columns": null,
            "grid_template_rows": null,
            "height": null,
            "justify_content": null,
            "justify_items": null,
            "left": null,
            "margin": null,
            "max_height": null,
            "max_width": null,
            "min_height": null,
            "min_width": null,
            "object_fit": null,
            "object_position": null,
            "order": null,
            "overflow": null,
            "overflow_x": null,
            "overflow_y": null,
            "padding": null,
            "right": null,
            "top": null,
            "visibility": null,
            "width": null
          }
        },
        "f2cd69d74e0e4e8c8b3a112bd67c3172": {
          "model_module": "@jupyter-widgets/base",
          "model_name": "LayoutModel",
          "model_module_version": "1.2.0",
          "state": {
            "_model_module": "@jupyter-widgets/base",
            "_model_module_version": "1.2.0",
            "_model_name": "LayoutModel",
            "_view_count": null,
            "_view_module": "@jupyter-widgets/base",
            "_view_module_version": "1.2.0",
            "_view_name": "LayoutView",
            "align_content": null,
            "align_items": null,
            "align_self": null,
            "border": null,
            "bottom": null,
            "display": null,
            "flex": null,
            "flex_flow": null,
            "grid_area": null,
            "grid_auto_columns": null,
            "grid_auto_flow": null,
            "grid_auto_rows": null,
            "grid_column": null,
            "grid_gap": null,
            "grid_row": null,
            "grid_template_areas": null,
            "grid_template_columns": null,
            "grid_template_rows": null,
            "height": null,
            "justify_content": null,
            "justify_items": null,
            "left": null,
            "margin": null,
            "max_height": null,
            "max_width": null,
            "min_height": null,
            "min_width": null,
            "object_fit": null,
            "object_position": null,
            "order": null,
            "overflow": null,
            "overflow_x": null,
            "overflow_y": null,
            "padding": null,
            "right": null,
            "top": null,
            "visibility": null,
            "width": null
          }
        },
        "8807eb33924f4b76b2368810c3d398be": {
          "model_module": "@jupyter-widgets/controls",
          "model_name": "DescriptionStyleModel",
          "model_module_version": "1.5.0",
          "state": {
            "_model_module": "@jupyter-widgets/controls",
            "_model_module_version": "1.5.0",
            "_model_name": "DescriptionStyleModel",
            "_view_count": null,
            "_view_module": "@jupyter-widgets/base",
            "_view_module_version": "1.2.0",
            "_view_name": "StyleView",
            "description_width": ""
          }
        },
        "b737245e148645a29fd934a39b8fa8b6": {
          "model_module": "@jupyter-widgets/base",
          "model_name": "LayoutModel",
          "model_module_version": "1.2.0",
          "state": {
            "_model_module": "@jupyter-widgets/base",
            "_model_module_version": "1.2.0",
            "_model_name": "LayoutModel",
            "_view_count": null,
            "_view_module": "@jupyter-widgets/base",
            "_view_module_version": "1.2.0",
            "_view_name": "LayoutView",
            "align_content": null,
            "align_items": null,
            "align_self": null,
            "border": null,
            "bottom": null,
            "display": null,
            "flex": null,
            "flex_flow": null,
            "grid_area": null,
            "grid_auto_columns": null,
            "grid_auto_flow": null,
            "grid_auto_rows": null,
            "grid_column": null,
            "grid_gap": null,
            "grid_row": null,
            "grid_template_areas": null,
            "grid_template_columns": null,
            "grid_template_rows": null,
            "height": null,
            "justify_content": null,
            "justify_items": null,
            "left": null,
            "margin": null,
            "max_height": null,
            "max_width": null,
            "min_height": null,
            "min_width": null,
            "object_fit": null,
            "object_position": null,
            "order": null,
            "overflow": null,
            "overflow_x": null,
            "overflow_y": null,
            "padding": null,
            "right": null,
            "top": null,
            "visibility": null,
            "width": null
          }
        },
        "7e9cf7ecf5694ceab7e75b5ca3eb33bb": {
          "model_module": "@jupyter-widgets/controls",
          "model_name": "ProgressStyleModel",
          "model_module_version": "1.5.0",
          "state": {
            "_model_module": "@jupyter-widgets/controls",
            "_model_module_version": "1.5.0",
            "_model_name": "ProgressStyleModel",
            "_view_count": null,
            "_view_module": "@jupyter-widgets/base",
            "_view_module_version": "1.2.0",
            "_view_name": "StyleView",
            "bar_color": null,
            "description_width": ""
          }
        },
        "a9aac1fc3e8042fb85e08eed4396956f": {
          "model_module": "@jupyter-widgets/base",
          "model_name": "LayoutModel",
          "model_module_version": "1.2.0",
          "state": {
            "_model_module": "@jupyter-widgets/base",
            "_model_module_version": "1.2.0",
            "_model_name": "LayoutModel",
            "_view_count": null,
            "_view_module": "@jupyter-widgets/base",
            "_view_module_version": "1.2.0",
            "_view_name": "LayoutView",
            "align_content": null,
            "align_items": null,
            "align_self": null,
            "border": null,
            "bottom": null,
            "display": null,
            "flex": null,
            "flex_flow": null,
            "grid_area": null,
            "grid_auto_columns": null,
            "grid_auto_flow": null,
            "grid_auto_rows": null,
            "grid_column": null,
            "grid_gap": null,
            "grid_row": null,
            "grid_template_areas": null,
            "grid_template_columns": null,
            "grid_template_rows": null,
            "height": null,
            "justify_content": null,
            "justify_items": null,
            "left": null,
            "margin": null,
            "max_height": null,
            "max_width": null,
            "min_height": null,
            "min_width": null,
            "object_fit": null,
            "object_position": null,
            "order": null,
            "overflow": null,
            "overflow_x": null,
            "overflow_y": null,
            "padding": null,
            "right": null,
            "top": null,
            "visibility": null,
            "width": null
          }
        },
        "01e9fbba87e7411b90cd66e099f40864": {
          "model_module": "@jupyter-widgets/controls",
          "model_name": "DescriptionStyleModel",
          "model_module_version": "1.5.0",
          "state": {
            "_model_module": "@jupyter-widgets/controls",
            "_model_module_version": "1.5.0",
            "_model_name": "DescriptionStyleModel",
            "_view_count": null,
            "_view_module": "@jupyter-widgets/base",
            "_view_module_version": "1.2.0",
            "_view_name": "StyleView",
            "description_width": ""
          }
        },
        "0be665c900dc440aa1b564c2194fcc22": {
          "model_module": "@jupyter-widgets/controls",
          "model_name": "HBoxModel",
          "model_module_version": "1.5.0",
          "state": {
            "_dom_classes": [],
            "_model_module": "@jupyter-widgets/controls",
            "_model_module_version": "1.5.0",
            "_model_name": "HBoxModel",
            "_view_count": null,
            "_view_module": "@jupyter-widgets/controls",
            "_view_module_version": "1.5.0",
            "_view_name": "HBoxView",
            "box_style": "",
            "children": [
              "IPY_MODEL_d88f773121944c948f3de85adda3817e",
              "IPY_MODEL_c40808e3b93548f193d74a643ffc645a",
              "IPY_MODEL_c13378dc801149868be51a4b1e2afe0c"
            ],
            "layout": "IPY_MODEL_2d292d2db11548cea3317bdb9b3c4fc0"
          }
        },
        "d88f773121944c948f3de85adda3817e": {
          "model_module": "@jupyter-widgets/controls",
          "model_name": "HTMLModel",
          "model_module_version": "1.5.0",
          "state": {
            "_dom_classes": [],
            "_model_module": "@jupyter-widgets/controls",
            "_model_module_version": "1.5.0",
            "_model_name": "HTMLModel",
            "_view_count": null,
            "_view_module": "@jupyter-widgets/controls",
            "_view_module_version": "1.5.0",
            "_view_name": "HTMLView",
            "description": "",
            "description_tooltip": null,
            "layout": "IPY_MODEL_f85f3f03e3984d8a9924c45ee4e82db1",
            "placeholder": "​",
            "style": "IPY_MODEL_e87f7b7f3127487cabbe24108a7987da",
            "value": "Map: 100%"
          }
        },
        "c40808e3b93548f193d74a643ffc645a": {
          "model_module": "@jupyter-widgets/controls",
          "model_name": "FloatProgressModel",
          "model_module_version": "1.5.0",
          "state": {
            "_dom_classes": [],
            "_model_module": "@jupyter-widgets/controls",
            "_model_module_version": "1.5.0",
            "_model_name": "FloatProgressModel",
            "_view_count": null,
            "_view_module": "@jupyter-widgets/controls",
            "_view_module_version": "1.5.0",
            "_view_name": "ProgressView",
            "bar_style": "success",
            "description": "",
            "description_tooltip": null,
            "layout": "IPY_MODEL_517caebfb7784c29acc23bb0d7be6493",
            "max": 250,
            "min": 0,
            "orientation": "horizontal",
            "style": "IPY_MODEL_72d3638d7fc44171b628787a703d87bb",
            "value": 250
          }
        },
        "c13378dc801149868be51a4b1e2afe0c": {
          "model_module": "@jupyter-widgets/controls",
          "model_name": "HTMLModel",
          "model_module_version": "1.5.0",
          "state": {
            "_dom_classes": [],
            "_model_module": "@jupyter-widgets/controls",
            "_model_module_version": "1.5.0",
            "_model_name": "HTMLModel",
            "_view_count": null,
            "_view_module": "@jupyter-widgets/controls",
            "_view_module_version": "1.5.0",
            "_view_name": "HTMLView",
            "description": "",
            "description_tooltip": null,
            "layout": "IPY_MODEL_4c9d73c033734164ba99ed9d27b22e9c",
            "placeholder": "​",
            "style": "IPY_MODEL_dd264e08f1e541d9a3f251d9f5055fda",
            "value": " 250/250 [00:00&lt;00:00, 2544.45 examples/s]"
          }
        },
        "2d292d2db11548cea3317bdb9b3c4fc0": {
          "model_module": "@jupyter-widgets/base",
          "model_name": "LayoutModel",
          "model_module_version": "1.2.0",
          "state": {
            "_model_module": "@jupyter-widgets/base",
            "_model_module_version": "1.2.0",
            "_model_name": "LayoutModel",
            "_view_count": null,
            "_view_module": "@jupyter-widgets/base",
            "_view_module_version": "1.2.0",
            "_view_name": "LayoutView",
            "align_content": null,
            "align_items": null,
            "align_self": null,
            "border": null,
            "bottom": null,
            "display": null,
            "flex": null,
            "flex_flow": null,
            "grid_area": null,
            "grid_auto_columns": null,
            "grid_auto_flow": null,
            "grid_auto_rows": null,
            "grid_column": null,
            "grid_gap": null,
            "grid_row": null,
            "grid_template_areas": null,
            "grid_template_columns": null,
            "grid_template_rows": null,
            "height": null,
            "justify_content": null,
            "justify_items": null,
            "left": null,
            "margin": null,
            "max_height": null,
            "max_width": null,
            "min_height": null,
            "min_width": null,
            "object_fit": null,
            "object_position": null,
            "order": null,
            "overflow": null,
            "overflow_x": null,
            "overflow_y": null,
            "padding": null,
            "right": null,
            "top": null,
            "visibility": null,
            "width": null
          }
        },
        "f85f3f03e3984d8a9924c45ee4e82db1": {
          "model_module": "@jupyter-widgets/base",
          "model_name": "LayoutModel",
          "model_module_version": "1.2.0",
          "state": {
            "_model_module": "@jupyter-widgets/base",
            "_model_module_version": "1.2.0",
            "_model_name": "LayoutModel",
            "_view_count": null,
            "_view_module": "@jupyter-widgets/base",
            "_view_module_version": "1.2.0",
            "_view_name": "LayoutView",
            "align_content": null,
            "align_items": null,
            "align_self": null,
            "border": null,
            "bottom": null,
            "display": null,
            "flex": null,
            "flex_flow": null,
            "grid_area": null,
            "grid_auto_columns": null,
            "grid_auto_flow": null,
            "grid_auto_rows": null,
            "grid_column": null,
            "grid_gap": null,
            "grid_row": null,
            "grid_template_areas": null,
            "grid_template_columns": null,
            "grid_template_rows": null,
            "height": null,
            "justify_content": null,
            "justify_items": null,
            "left": null,
            "margin": null,
            "max_height": null,
            "max_width": null,
            "min_height": null,
            "min_width": null,
            "object_fit": null,
            "object_position": null,
            "order": null,
            "overflow": null,
            "overflow_x": null,
            "overflow_y": null,
            "padding": null,
            "right": null,
            "top": null,
            "visibility": null,
            "width": null
          }
        },
        "e87f7b7f3127487cabbe24108a7987da": {
          "model_module": "@jupyter-widgets/controls",
          "model_name": "DescriptionStyleModel",
          "model_module_version": "1.5.0",
          "state": {
            "_model_module": "@jupyter-widgets/controls",
            "_model_module_version": "1.5.0",
            "_model_name": "DescriptionStyleModel",
            "_view_count": null,
            "_view_module": "@jupyter-widgets/base",
            "_view_module_version": "1.2.0",
            "_view_name": "StyleView",
            "description_width": ""
          }
        },
        "517caebfb7784c29acc23bb0d7be6493": {
          "model_module": "@jupyter-widgets/base",
          "model_name": "LayoutModel",
          "model_module_version": "1.2.0",
          "state": {
            "_model_module": "@jupyter-widgets/base",
            "_model_module_version": "1.2.0",
            "_model_name": "LayoutModel",
            "_view_count": null,
            "_view_module": "@jupyter-widgets/base",
            "_view_module_version": "1.2.0",
            "_view_name": "LayoutView",
            "align_content": null,
            "align_items": null,
            "align_self": null,
            "border": null,
            "bottom": null,
            "display": null,
            "flex": null,
            "flex_flow": null,
            "grid_area": null,
            "grid_auto_columns": null,
            "grid_auto_flow": null,
            "grid_auto_rows": null,
            "grid_column": null,
            "grid_gap": null,
            "grid_row": null,
            "grid_template_areas": null,
            "grid_template_columns": null,
            "grid_template_rows": null,
            "height": null,
            "justify_content": null,
            "justify_items": null,
            "left": null,
            "margin": null,
            "max_height": null,
            "max_width": null,
            "min_height": null,
            "min_width": null,
            "object_fit": null,
            "object_position": null,
            "order": null,
            "overflow": null,
            "overflow_x": null,
            "overflow_y": null,
            "padding": null,
            "right": null,
            "top": null,
            "visibility": null,
            "width": null
          }
        },
        "72d3638d7fc44171b628787a703d87bb": {
          "model_module": "@jupyter-widgets/controls",
          "model_name": "ProgressStyleModel",
          "model_module_version": "1.5.0",
          "state": {
            "_model_module": "@jupyter-widgets/controls",
            "_model_module_version": "1.5.0",
            "_model_name": "ProgressStyleModel",
            "_view_count": null,
            "_view_module": "@jupyter-widgets/base",
            "_view_module_version": "1.2.0",
            "_view_name": "StyleView",
            "bar_color": null,
            "description_width": ""
          }
        },
        "4c9d73c033734164ba99ed9d27b22e9c": {
          "model_module": "@jupyter-widgets/base",
          "model_name": "LayoutModel",
          "model_module_version": "1.2.0",
          "state": {
            "_model_module": "@jupyter-widgets/base",
            "_model_module_version": "1.2.0",
            "_model_name": "LayoutModel",
            "_view_count": null,
            "_view_module": "@jupyter-widgets/base",
            "_view_module_version": "1.2.0",
            "_view_name": "LayoutView",
            "align_content": null,
            "align_items": null,
            "align_self": null,
            "border": null,
            "bottom": null,
            "display": null,
            "flex": null,
            "flex_flow": null,
            "grid_area": null,
            "grid_auto_columns": null,
            "grid_auto_flow": null,
            "grid_auto_rows": null,
            "grid_column": null,
            "grid_gap": null,
            "grid_row": null,
            "grid_template_areas": null,
            "grid_template_columns": null,
            "grid_template_rows": null,
            "height": null,
            "justify_content": null,
            "justify_items": null,
            "left": null,
            "margin": null,
            "max_height": null,
            "max_width": null,
            "min_height": null,
            "min_width": null,
            "object_fit": null,
            "object_position": null,
            "order": null,
            "overflow": null,
            "overflow_x": null,
            "overflow_y": null,
            "padding": null,
            "right": null,
            "top": null,
            "visibility": null,
            "width": null
          }
        },
        "dd264e08f1e541d9a3f251d9f5055fda": {
          "model_module": "@jupyter-widgets/controls",
          "model_name": "DescriptionStyleModel",
          "model_module_version": "1.5.0",
          "state": {
            "_model_module": "@jupyter-widgets/controls",
            "_model_module_version": "1.5.0",
            "_model_name": "DescriptionStyleModel",
            "_view_count": null,
            "_view_module": "@jupyter-widgets/base",
            "_view_module_version": "1.2.0",
            "_view_name": "StyleView",
            "description_width": ""
          }
        }
      }
    }
  },
  "cells": [
    {
      "cell_type": "markdown",
      "source": [
        "##Monolingual_Bulgarian"
      ],
      "metadata": {
        "id": "SbVu6-tt6oo_"
      }
    },
    {
      "cell_type": "code",
      "execution_count": null,
      "metadata": {
        "colab": {
          "base_uri": "https://localhost:8080/"
        },
        "id": "X1s_3uGOyWHw",
        "outputId": "0036ab71-2e80-4c42-d2b0-2d4af36d1287"
      },
      "outputs": [
        {
          "output_type": "stream",
          "name": "stdout",
          "text": [
            "Drive already mounted at /content/drive; to attempt to forcibly remount, call drive.mount(\"/content/drive\", force_remount=True).\n"
          ]
        }
      ],
      "source": [
        "from google.colab import drive\n",
        "drive.mount('/content/drive')"
      ]
    },
    {
      "cell_type": "code",
      "source": [
        "import pandas as pd\n",
        "from sklearn.preprocessing import LabelEncoder\n",
        "from datasets import Dataset, concatenate_datasets\n",
        "from transformers import AutoTokenizer\n",
        "from collections import Counter\n",
        "import random\n",
        "import torch\n",
        "from transformers import DataCollatorWithPadding, EarlyStoppingCallback\n",
        "from sklearn.metrics import precision_recall_fscore_support, accuracy_score\n",
        "from transformers import AutoModelForSequenceClassification, Trainer, TrainingArguments\n",
        "from torch.utils.data import DataLoader, WeightedRandomSampler\n",
        "from pathlib import Path"
      ],
      "metadata": {
        "id": "0cVXzdYXLdvF"
      },
      "execution_count": null,
      "outputs": []
    },
    {
      "cell_type": "markdown",
      "source": [
        "##Load Data"
      ],
      "metadata": {
        "id": "ETgcIUsE3JdG"
      }
    },
    {
      "cell_type": "code",
      "source": [
        "base_dir = '/content/drive/MyDrive/clef2025-checkthat-lab-main-task1/task1/data/bulgarian'\n",
        "train_path = f'{base_dir}/train_bg.tsv'\n",
        "dev_path   = f'{base_dir}/dev_bg.tsv'\n",
        "dev_test_path = f'{base_dir}/dev_test_bg.tsv'\n"
      ],
      "metadata": {
        "id": "GP5PEFU4yjto"
      },
      "execution_count": null,
      "outputs": []
    },
    {
      "cell_type": "code",
      "source": [
        "train_df = pd.read_csv(train_path, sep='\\t')\n",
        "dev_df   = pd.read_csv(dev_path, sep='\\t')\n",
        "dev_test_df = pd.read_csv(dev_test_path, sep='\\t')"
      ],
      "metadata": {
        "id": "LvRILJGrNOyQ"
      },
      "execution_count": null,
      "outputs": []
    },
    {
      "cell_type": "markdown",
      "source": [
        "##Pre processing"
      ],
      "metadata": {
        "id": "JjL6bpQE3R4q"
      }
    },
    {
      "cell_type": "code",
      "source": [
        "le = LabelEncoder()\n",
        "train_df['label_id']    = le.fit_transform(train_df['label'])\n",
        "dev_df['label_id']      = le.transform(dev_df['label'])\n",
        "dev_test_df['label_id'] = le.transform(dev_test_df['label'])\n",
        "\n",
        "\n",
        "for df in (train_df, dev_df, dev_test_df):\n",
        "    df.drop(columns=['label'], inplace=True)\n",
        "\n",
        "for df in (train_df, dev_df, dev_test_df):\n",
        "    df.rename(columns={'label_id':'labels'}, inplace=True)\n",
        "\n",
        "print(\"Mapped classes:\", dict(enumerate(le.classes_)))\n"
      ],
      "metadata": {
        "id": "8Wsl9Jgtdlfw",
        "colab": {
          "base_uri": "https://localhost:8080/"
        },
        "outputId": "cd34f026-76d9-4cf2-dac1-7ff4dd0da487"
      },
      "execution_count": null,
      "outputs": [
        {
          "output_type": "stream",
          "name": "stdout",
          "text": [
            "Mapped classes: {0: 'OBJ', 1: 'SUBJ'}\n"
          ]
        }
      ]
    },
    {
      "cell_type": "code",
      "source": [
        "train_ds    = Dataset.from_pandas(train_df[['sentence','labels']])\n",
        "dev_ds      = Dataset.from_pandas(dev_df[['sentence','labels']])\n",
        "dev_test_ds = Dataset.from_pandas(dev_test_df[['sentence','labels']])"
      ],
      "metadata": {
        "id": "Fl61hFt2dpZY"
      },
      "execution_count": null,
      "outputs": []
    },
    {
      "cell_type": "code",
      "source": [
        "counts = Counter(train_ds['labels'])\n",
        "n_obj, n_subj = counts[0], counts[1]\n",
        "print(f\"Original counts → OBJ: {n_obj}, SUBJ: {n_subj}\")"
      ],
      "metadata": {
        "colab": {
          "base_uri": "https://localhost:8080/"
        },
        "id": "252vkRToOaYH",
        "outputId": "d9ebef8b-75cb-4473-dae0-bef2e2e65013"
      },
      "execution_count": null,
      "outputs": [
        {
          "output_type": "stream",
          "name": "stdout",
          "text": [
            "Original counts → OBJ: 379, SUBJ: 312\n"
          ]
        }
      ]
    },
    {
      "cell_type": "markdown",
      "source": [
        "## Tokenize"
      ],
      "metadata": {
        "id": "nN8GBHHg3aJM"
      }
    },
    {
      "cell_type": "markdown",
      "source": [
        "For tokenize data, we use the **mDeBERTaV3_base** model."
      ],
      "metadata": {
        "id": "QtHnY1mT3fTJ"
      }
    },
    {
      "cell_type": "code",
      "source": [
        "model_name = \"microsoft/mdeberta-v3-base\"\n",
        "tokenizer  = AutoTokenizer.from_pretrained(model_name)\n",
        "\n",
        "max_len = 100\n",
        "\n",
        "def tokenize(batch):\n",
        "    return tokenizer(batch['sentence'],\n",
        "                     padding='max_length',\n",
        "                     truncation=True,\n",
        "                     max_length=max_len)\n",
        "\n",
        "train_ds    = train_ds.map(tokenize, batched=True)\n",
        "dev_ds      = dev_ds.map(tokenize, batched=True)\n",
        "dev_test_ds = dev_test_ds.map(tokenize, batched=True)\n",
        "\n",
        "cols = ['input_ids','attention_mask','labels']\n",
        "train_ds    = train_ds.remove_columns([c for c in train_ds.column_names if c not in cols])\n",
        "dev_ds      = dev_ds.remove_columns([c for c in dev_ds.column_names if c not in cols])\n",
        "dev_test_ds = dev_test_ds.remove_columns([c for c in dev_test_ds.column_names if c not in cols])"
      ],
      "metadata": {
        "colab": {
          "base_uri": "https://localhost:8080/",
          "height": 272,
          "referenced_widgets": [
            "ba361f948a4249878aa39d1d30a2c7e4",
            "b60a8aa2e9b94c018bc75dfe16850699",
            "4f3cc63b17ce4990a65c390084f0b12b",
            "6579225c1adb40d885aa54a96f3c6d43",
            "4032f9c418db466b97246aad65e94068",
            "0c6fa134cc1a431f9ffeb408d52840ef",
            "0ae3b9650c4f4858bdb5743929a59893",
            "8e144dd427f84280a533f00b74ed5d22",
            "b8c32bafc05c43e7ab124c3f58e48948",
            "b4f8765623874691b517b50fe9cd9f6d",
            "ff275d0947fa476ab20cb8a83a37c9e1",
            "1dde5b5809d74ea8a832fd981a62befc",
            "37685ef289af48cfb6a22cf3aeca1c90",
            "b5f54d29e85442bba6228912ff3bc89d",
            "18f77407b8ab4007877cb8fb60a17c7d",
            "4033e034d10542cd8e71272e28dfdd0c",
            "f2cd69d74e0e4e8c8b3a112bd67c3172",
            "8807eb33924f4b76b2368810c3d398be",
            "b737245e148645a29fd934a39b8fa8b6",
            "7e9cf7ecf5694ceab7e75b5ca3eb33bb",
            "a9aac1fc3e8042fb85e08eed4396956f",
            "01e9fbba87e7411b90cd66e099f40864",
            "0be665c900dc440aa1b564c2194fcc22",
            "d88f773121944c948f3de85adda3817e",
            "c40808e3b93548f193d74a643ffc645a",
            "c13378dc801149868be51a4b1e2afe0c",
            "2d292d2db11548cea3317bdb9b3c4fc0",
            "f85f3f03e3984d8a9924c45ee4e82db1",
            "e87f7b7f3127487cabbe24108a7987da",
            "517caebfb7784c29acc23bb0d7be6493",
            "72d3638d7fc44171b628787a703d87bb",
            "4c9d73c033734164ba99ed9d27b22e9c",
            "dd264e08f1e541d9a3f251d9f5055fda"
          ]
        },
        "id": "haRpwKSrdvcv",
        "outputId": "c694b654-2ee8-4029-9783-2cc005920ed0"
      },
      "execution_count": null,
      "outputs": [
        {
          "output_type": "stream",
          "name": "stderr",
          "text": [
            "/usr/local/lib/python3.11/dist-packages/huggingface_hub/utils/_auth.py:94: UserWarning: \n",
            "The secret `HF_TOKEN` does not exist in your Colab secrets.\n",
            "To authenticate with the Hugging Face Hub, create a token in your settings tab (https://huggingface.co/settings/tokens), set it as secret in your Google Colab and restart your session.\n",
            "You will be able to reuse this secret in all of your notebooks.\n",
            "Please note that authentication is recommended but still optional to access public models or datasets.\n",
            "  warnings.warn(\n",
            "/usr/local/lib/python3.11/dist-packages/transformers/convert_slow_tokenizer.py:564: UserWarning: The sentencepiece tokenizer that you are converting to a fast tokenizer uses the byte fallback option which is not implemented in the fast tokenizers. In practice this means that the fast version of the tokenizer can produce unknown tokens whereas the sentencepiece version would have converted these unknown tokens into a sequence of byte tokens matching the original piece of text.\n",
            "  warnings.warn(\n"
          ]
        },
        {
          "output_type": "display_data",
          "data": {
            "text/plain": [
              "Map:   0%|          | 0/691 [00:00<?, ? examples/s]"
            ],
            "application/vnd.jupyter.widget-view+json": {
              "version_major": 2,
              "version_minor": 0,
              "model_id": "ba361f948a4249878aa39d1d30a2c7e4"
            }
          },
          "metadata": {}
        },
        {
          "output_type": "display_data",
          "data": {
            "text/plain": [
              "Map:   0%|          | 0/306 [00:00<?, ? examples/s]"
            ],
            "application/vnd.jupyter.widget-view+json": {
              "version_major": 2,
              "version_minor": 0,
              "model_id": "1dde5b5809d74ea8a832fd981a62befc"
            }
          },
          "metadata": {}
        },
        {
          "output_type": "display_data",
          "data": {
            "text/plain": [
              "Map:   0%|          | 0/250 [00:00<?, ? examples/s]"
            ],
            "application/vnd.jupyter.widget-view+json": {
              "version_major": 2,
              "version_minor": 0,
              "model_id": "0be665c900dc440aa1b564c2194fcc22"
            }
          },
          "metadata": {}
        }
      ]
    },
    {
      "cell_type": "markdown",
      "source": [
        "##Model"
      ],
      "metadata": {
        "id": "zfb7kFuA4I3n"
      }
    },
    {
      "cell_type": "markdown",
      "source": [
        " Define a data collator for dynamic padding and a metrics function to compute per-class precision, recall, F1, and macro F1 score.\n"
      ],
      "metadata": {
        "id": "kICfbsfR4KDN"
      }
    },
    {
      "cell_type": "code",
      "source": [
        "data_collator = DataCollatorWithPadding(tokenizer)\n",
        "\n",
        "def compute_metrics(eval_pred):\n",
        "    logits, labels = eval_pred\n",
        "    preds = logits.argmax(axis=-1)\n",
        "    precision, recall, f1, _ = precision_recall_fscore_support(\n",
        "        labels, preds, labels=[0,1], zero_division=0\n",
        "    )\n",
        "    return {\n",
        "        'accuracy': accuracy_score(labels, preds),\n",
        "        'precision_OBJ': precision[0],\n",
        "        'recall_OBJ':    recall[0],\n",
        "        'f1_OBJ':        f1[0],\n",
        "        'precision_SUBJ':precision[1],\n",
        "        'recall_SUBJ':   recall[1],\n",
        "        'f1_SUBJ':       f1[1],\n",
        "        'macro_f1':      f1.mean()\n",
        "    }\n"
      ],
      "metadata": {
        "id": "mVzqVQowfU-g"
      },
      "execution_count": null,
      "outputs": []
    },
    {
      "cell_type": "markdown",
      "source": [
        " Use WeightedRandomSampler to balance class sampling in each batch, and customize Trainer to use this sampler during training.\n"
      ],
      "metadata": {
        "id": "83OqRFfJ44oV"
      }
    },
    {
      "cell_type": "code",
      "source": [
        "#Extract train labels (0 or 1)\n",
        "train_labels = train_ds[\"labels\"]  # a list or array of 0/1\n",
        "\n",
        "\n",
        "counts = Counter(train_labels)\n",
        "total  = counts[0] + counts[1]\n",
        "# weight for OBJ = total/counts[0], for SUBJ = total/counts[1]\n",
        "weights = [ total / counts[label] for label in train_labels ]\n",
        "\n",
        "# sampler that samples N = len(train) items with replacement\n",
        "sampler = WeightedRandomSampler(\n",
        "    weights      = weights,\n",
        "    num_samples  = len(weights),\n",
        "    replacement  = True\n",
        ")\n",
        "\n",
        "\n",
        "\n",
        "class SamplerTrainer(Trainer):\n",
        "    def get_train_dataloader(self):\n",
        "        return DataLoader(\n",
        "            self.train_dataset,\n",
        "            sampler      = sampler,\n",
        "            batch_size   = self.args.per_device_train_batch_size,\n",
        "            collate_fn   = self.data_collator,\n",
        "            num_workers  = self.args.dataloader_num_workers,\n",
        "            pin_memory   = True,\n",
        "        )"
      ],
      "metadata": {
        "id": "-CNwHEoUJXzu"
      },
      "execution_count": null,
      "outputs": []
    },
    {
      "cell_type": "markdown",
      "source": [
        " Initialize model **(mDeBERTaV3_base)** and training configuration with gradient checkpointing and early stopping.\n",
        "\n",
        " Uses a custom SamplerTrainer to address class imbalance, and selects the best model based on macro F1 score.\n"
      ],
      "metadata": {
        "id": "jSw8ooT85Qyw"
      }
    },
    {
      "cell_type": "code",
      "source": [
        "torch.cuda.empty_cache()\n",
        "model = AutoModelForSequenceClassification.from_pretrained(model_name, num_labels=2)\n",
        "\n",
        "model.gradient_checkpointing_enable()\n",
        "\n",
        "training_args = TrainingArguments(\n",
        "    output_dir= \"/content/results_bg\",\n",
        "    eval_strategy = 'epoch',\n",
        "    save_strategy       = 'epoch',\n",
        "    learning_rate       = 2e-5,\n",
        "    per_device_train_batch_size = 16,\n",
        "    gradient_accumulation_steps   = 4,\n",
        "    per_device_eval_batch_size  = 64,\n",
        "    num_train_epochs          = 6,\n",
        "    weight_decay              = 0.1,\n",
        "    warmup_ratio              = 0.1,\n",
        "    lr_scheduler_type         = \"linear\",\n",
        "    label_smoothing_factor    = 0.1,\n",
        "    max_grad_norm             = 1.0,\n",
        "    fp16                          = True,\n",
        "    load_best_model_at_end=True,\n",
        "    metric_for_best_model = 'macro_f1',\n",
        "    greater_is_better   = True,\n",
        "    logging_dir         = './logs_bg',\n",
        "    logging_steps       = 50,\n",
        "    logging_strategy = 'epoch' ,\n",
        "    seed = 42,\n",
        ")\n",
        "\n",
        "trainer = SamplerTrainer(\n",
        "    model           = model,\n",
        "    args            = training_args,\n",
        "    train_dataset   = train_ds,\n",
        "    eval_dataset    = dev_ds,\n",
        "    tokenizer       = tokenizer,\n",
        "    data_collator   = data_collator,\n",
        "    compute_metrics = compute_metrics,\n",
        "    callbacks=[EarlyStoppingCallback(early_stopping_patience=1)]\n",
        ")\n",
        "\n",
        "\n"
      ],
      "metadata": {
        "colab": {
          "base_uri": "https://localhost:8080/"
        },
        "id": "sRxFkq-Mfac7",
        "outputId": "349f0eca-d309-45ae-f29a-13cbfda57ece"
      },
      "execution_count": null,
      "outputs": [
        {
          "output_type": "stream",
          "name": "stderr",
          "text": [
            "Some weights of DebertaV2ForSequenceClassification were not initialized from the model checkpoint at microsoft/mdeberta-v3-base and are newly initialized: ['classifier.bias', 'classifier.weight', 'pooler.dense.bias', 'pooler.dense.weight']\n",
            "You should probably TRAIN this model on a down-stream task to be able to use it for predictions and inference.\n",
            "/tmp/ipython-input-18-1844787602.py:31: FutureWarning: `tokenizer` is deprecated and will be removed in version 5.0.0 for `SamplerTrainer.__init__`. Use `processing_class` instead.\n",
            "  trainer = SamplerTrainer(\n"
          ]
        }
      ]
    },
    {
      "cell_type": "markdown",
      "source": [
        "Train and fine tuning the model and save the best model."
      ],
      "metadata": {
        "id": "pf2SPV_T5U4D"
      }
    },
    {
      "cell_type": "code",
      "source": [
        "trainer.train()\n",
        "output_dir = \"/content/drive/MyDrive/clef2025-checkthat-lab-main-task1/task1/models/Monolingual_bulgarian\"\n",
        "Path(output_dir).mkdir(parents=True, exist_ok=True)\n",
        "trainer.save_model(output_dir)\n",
        "\n",
        "print(f\"Final model saved to {output_dir}\")\n"
      ],
      "metadata": {
        "colab": {
          "base_uri": "https://localhost:8080/",
          "height": 281
        },
        "id": "ss4SWIqlU_Iu",
        "outputId": "9db5a7bd-6c3f-49a6-c386-416e4c44407c"
      },
      "execution_count": null,
      "outputs": [
        {
          "output_type": "display_data",
          "data": {
            "text/plain": [
              "<IPython.core.display.HTML object>"
            ],
            "text/html": [
              "\n",
              "    <div>\n",
              "      \n",
              "      <progress value='66' max='66' style='width:300px; height:20px; vertical-align: middle;'></progress>\n",
              "      [66/66 07:29, Epoch 6/6]\n",
              "    </div>\n",
              "    <table border=\"1\" class=\"dataframe\">\n",
              "  <thead>\n",
              " <tr style=\"text-align: left;\">\n",
              "      <th>Epoch</th>\n",
              "      <th>Training Loss</th>\n",
              "      <th>Validation Loss</th>\n",
              "      <th>Accuracy</th>\n",
              "      <th>Precision Obj</th>\n",
              "      <th>Recall Obj</th>\n",
              "      <th>F1 Obj</th>\n",
              "      <th>Precision Subj</th>\n",
              "      <th>Recall Subj</th>\n",
              "      <th>F1 Subj</th>\n",
              "      <th>Macro F1</th>\n",
              "    </tr>\n",
              "  </thead>\n",
              "  <tbody>\n",
              "    <tr>\n",
              "      <td>1</td>\n",
              "      <td>0.693500</td>\n",
              "      <td>0.697510</td>\n",
              "      <td>0.454248</td>\n",
              "      <td>0.000000</td>\n",
              "      <td>0.000000</td>\n",
              "      <td>0.000000</td>\n",
              "      <td>0.454248</td>\n",
              "      <td>1.000000</td>\n",
              "      <td>0.624719</td>\n",
              "      <td>0.312360</td>\n",
              "    </tr>\n",
              "    <tr>\n",
              "      <td>2</td>\n",
              "      <td>0.693100</td>\n",
              "      <td>0.688713</td>\n",
              "      <td>0.545752</td>\n",
              "      <td>0.545752</td>\n",
              "      <td>1.000000</td>\n",
              "      <td>0.706131</td>\n",
              "      <td>0.000000</td>\n",
              "      <td>0.000000</td>\n",
              "      <td>0.000000</td>\n",
              "      <td>0.353066</td>\n",
              "    </tr>\n",
              "    <tr>\n",
              "      <td>3</td>\n",
              "      <td>0.683800</td>\n",
              "      <td>0.667678</td>\n",
              "      <td>0.571895</td>\n",
              "      <td>0.562069</td>\n",
              "      <td>0.976048</td>\n",
              "      <td>0.713348</td>\n",
              "      <td>0.750000</td>\n",
              "      <td>0.086331</td>\n",
              "      <td>0.154839</td>\n",
              "      <td>0.434093</td>\n",
              "    </tr>\n",
              "    <tr>\n",
              "      <td>4</td>\n",
              "      <td>0.623400</td>\n",
              "      <td>0.604552</td>\n",
              "      <td>0.696078</td>\n",
              "      <td>0.666667</td>\n",
              "      <td>0.886228</td>\n",
              "      <td>0.760925</td>\n",
              "      <td>0.773810</td>\n",
              "      <td>0.467626</td>\n",
              "      <td>0.582960</td>\n",
              "      <td>0.671943</td>\n",
              "    </tr>\n",
              "    <tr>\n",
              "      <td>5</td>\n",
              "      <td>0.560000</td>\n",
              "      <td>0.564294</td>\n",
              "      <td>0.751634</td>\n",
              "      <td>0.842105</td>\n",
              "      <td>0.670659</td>\n",
              "      <td>0.746667</td>\n",
              "      <td>0.682081</td>\n",
              "      <td>0.848921</td>\n",
              "      <td>0.756410</td>\n",
              "      <td>0.751538</td>\n",
              "    </tr>\n",
              "    <tr>\n",
              "      <td>6</td>\n",
              "      <td>0.505900</td>\n",
              "      <td>0.551483</td>\n",
              "      <td>0.761438</td>\n",
              "      <td>0.776471</td>\n",
              "      <td>0.790419</td>\n",
              "      <td>0.783383</td>\n",
              "      <td>0.742647</td>\n",
              "      <td>0.726619</td>\n",
              "      <td>0.734545</td>\n",
              "      <td>0.758964</td>\n",
              "    </tr>\n",
              "  </tbody>\n",
              "</table><p>"
            ]
          },
          "metadata": {}
        },
        {
          "output_type": "stream",
          "name": "stdout",
          "text": [
            "Final model saved to /content/drive/MyDrive/clef2025-checkthat-lab-main-task1/task1/models/Monolingual_bulgarian\n"
          ]
        }
      ]
    },
    {
      "cell_type": "markdown",
      "source": [
        "training and evaluation loss logs for each epoch, then evaluate and display final macro F1 scores on the train and validation sets.\n"
      ],
      "metadata": {
        "id": "92u9NfDS6JS2"
      }
    },
    {
      "cell_type": "code",
      "source": [
        "for record in trainer.state.log_history:\n",
        "    if 'eval_loss' in record or 'loss' in record:\n",
        "        print(record)\n",
        "\n",
        "train_metrics = trainer.evaluate(train_ds)\n",
        "val_metrics   = trainer.evaluate(dev_ds)\n",
        "print(\"Train macro-F1:\", train_metrics['eval_macro_f1'])\n",
        "print(\"Val   macro-F1:\", val_metrics['eval_macro_f1'])\n"
      ],
      "metadata": {
        "colab": {
          "base_uri": "https://localhost:8080/",
          "height": 300
        },
        "id": "CnmfNKrj39dr",
        "outputId": "684bab27-d50e-4c14-e21e-24c23d0c4b08"
      },
      "execution_count": null,
      "outputs": [
        {
          "output_type": "stream",
          "name": "stdout",
          "text": [
            "{'loss': 0.6935, 'grad_norm': 3.131653070449829, 'learning_rate': 1.898305084745763e-05, 'epoch': 1.0, 'step': 11}\n",
            "{'eval_loss': 0.6975103616714478, 'eval_accuracy': 0.4542483660130719, 'eval_precision_OBJ': 0.0, 'eval_recall_OBJ': 0.0, 'eval_f1_OBJ': 0.0, 'eval_precision_SUBJ': 0.4542483660130719, 'eval_recall_SUBJ': 1.0, 'eval_f1_SUBJ': 0.6247191011235955, 'eval_macro_f1': 0.31235955056179776, 'eval_runtime': 0.6487, 'eval_samples_per_second': 471.723, 'eval_steps_per_second': 7.708, 'epoch': 1.0, 'step': 11}\n",
            "{'loss': 0.6931, 'grad_norm': 0.9698556065559387, 'learning_rate': 1.5254237288135594e-05, 'epoch': 2.0, 'step': 22}\n",
            "{'eval_loss': 0.6887134909629822, 'eval_accuracy': 0.545751633986928, 'eval_precision_OBJ': 0.545751633986928, 'eval_recall_OBJ': 1.0, 'eval_f1_OBJ': 0.7061310782241015, 'eval_precision_SUBJ': 0.0, 'eval_recall_SUBJ': 0.0, 'eval_f1_SUBJ': 0.0, 'eval_macro_f1': 0.35306553911205074, 'eval_runtime': 0.6646, 'eval_samples_per_second': 460.452, 'eval_steps_per_second': 7.524, 'epoch': 2.0, 'step': 22}\n",
            "{'loss': 0.6838, 'grad_norm': 1.2049399614334106, 'learning_rate': 1.1525423728813561e-05, 'epoch': 3.0, 'step': 33}\n",
            "{'eval_loss': 0.6676782369613647, 'eval_accuracy': 0.5718954248366013, 'eval_precision_OBJ': 0.5620689655172414, 'eval_recall_OBJ': 0.9760479041916168, 'eval_f1_OBJ': 0.7133479212253829, 'eval_precision_SUBJ': 0.75, 'eval_recall_SUBJ': 0.08633093525179857, 'eval_f1_SUBJ': 0.15483870967741936, 'eval_macro_f1': 0.4340933154514012, 'eval_runtime': 0.7003, 'eval_samples_per_second': 436.938, 'eval_steps_per_second': 7.14, 'epoch': 3.0, 'step': 33}\n",
            "{'loss': 0.6234, 'grad_norm': 2.8874692916870117, 'learning_rate': 7.796610169491526e-06, 'epoch': 4.0, 'step': 44}\n",
            "{'eval_loss': 0.6045520901679993, 'eval_accuracy': 0.696078431372549, 'eval_precision_OBJ': 0.6666666666666666, 'eval_recall_OBJ': 0.8862275449101796, 'eval_f1_OBJ': 0.7609254498714653, 'eval_precision_SUBJ': 0.7738095238095238, 'eval_recall_SUBJ': 0.4676258992805755, 'eval_f1_SUBJ': 0.5829596412556054, 'eval_macro_f1': 0.6719425455635353, 'eval_runtime': 0.653, 'eval_samples_per_second': 468.618, 'eval_steps_per_second': 7.657, 'epoch': 4.0, 'step': 44}\n",
            "{'loss': 0.56, 'grad_norm': 2.393254041671753, 'learning_rate': 4.067796610169492e-06, 'epoch': 5.0, 'step': 55}\n",
            "{'eval_loss': 0.5642940402030945, 'eval_accuracy': 0.7516339869281046, 'eval_precision_OBJ': 0.8421052631578947, 'eval_recall_OBJ': 0.6706586826347305, 'eval_f1_OBJ': 0.7466666666666667, 'eval_precision_SUBJ': 0.6820809248554913, 'eval_recall_SUBJ': 0.8489208633093526, 'eval_f1_SUBJ': 0.7564102564102564, 'eval_macro_f1': 0.7515384615384615, 'eval_runtime': 0.6669, 'eval_samples_per_second': 458.865, 'eval_steps_per_second': 7.498, 'epoch': 5.0, 'step': 55}\n",
            "{'loss': 0.5059, 'grad_norm': 2.6478474140167236, 'learning_rate': 3.3898305084745766e-07, 'epoch': 6.0, 'step': 66}\n",
            "{'eval_loss': 0.5514834523200989, 'eval_accuracy': 0.761437908496732, 'eval_precision_OBJ': 0.7764705882352941, 'eval_recall_OBJ': 0.7904191616766467, 'eval_f1_OBJ': 0.7833827893175074, 'eval_precision_SUBJ': 0.7426470588235294, 'eval_recall_SUBJ': 0.7266187050359713, 'eval_f1_SUBJ': 0.7345454545454545, 'eval_macro_f1': 0.7589641219314809, 'eval_runtime': 0.6568, 'eval_samples_per_second': 465.883, 'eval_steps_per_second': 7.612, 'epoch': 6.0, 'step': 66}\n"
          ]
        },
        {
          "output_type": "display_data",
          "data": {
            "text/plain": [
              "<IPython.core.display.HTML object>"
            ],
            "text/html": [
              "\n",
              "    <div>\n",
              "      \n",
              "      <progress value='16' max='11' style='width:300px; height:20px; vertical-align: middle;'></progress>\n",
              "      [11/11 00:02]\n",
              "    </div>\n",
              "    "
            ]
          },
          "metadata": {}
        },
        {
          "output_type": "stream",
          "name": "stdout",
          "text": [
            "Train macro-F1: 0.8685912064506314\n",
            "Val   macro-F1: 0.7589641219314809\n"
          ]
        }
      ]
    },
    {
      "cell_type": "markdown",
      "source": [
        "Load model"
      ],
      "metadata": {
        "id": "n58mVM0M6LyK"
      }
    },
    {
      "cell_type": "code",
      "source": [
        "output_dir = \"/content/drive/MyDrive/clef2025-checkthat-lab-main-task1/task1/models/Monolingual_bulgarian\"\n",
        "model     = AutoModelForSequenceClassification.from_pretrained(output_dir)\n",
        "tokenizer = AutoTokenizer.from_pretrained(output_dir)\n",
        "\n",
        "data_collator = DataCollatorWithPadding(tokenizer)\n",
        "\n",
        "trainer = Trainer(\n",
        "    model            = model,\n",
        "    tokenizer        = tokenizer,\n",
        "    data_collator   = data_collator,\n",
        "    compute_metrics = compute_metrics\n",
        ")"
      ],
      "metadata": {
        "colab": {
          "base_uri": "https://localhost:8080/"
        },
        "id": "n50yDmjjHhm5",
        "outputId": "a7449ba9-1a63-42f8-ab52-3a364099c28b"
      },
      "execution_count": null,
      "outputs": [
        {
          "output_type": "stream",
          "name": "stderr",
          "text": [
            "/tmp/ipython-input-23-4268508816.py:10: FutureWarning: `tokenizer` is deprecated and will be removed in version 5.0.0 for `Trainer.__init__`. Use `processing_class` instead.\n",
            "  trainer = Trainer(\n"
          ]
        }
      ]
    },
    {
      "cell_type": "markdown",
      "source": [
        "#Result"
      ],
      "metadata": {
        "id": "J70-IV6Q6XKT"
      }
    },
    {
      "cell_type": "markdown",
      "source": [
        "Result for dev test data: **0.73918**"
      ],
      "metadata": {
        "id": "q0jj87Jf6TnR"
      }
    },
    {
      "cell_type": "code",
      "source": [
        "metrics = trainer.evaluate(dev_test_ds)\n",
        "\n",
        "\n",
        "print(\"Result of dev_test data\")\n",
        "print(f\"OBJ – Precision: {metrics['eval_precision_OBJ']:.5f}, Recall: {metrics['eval_recall_OBJ']:.5f}, F1: {metrics['eval_f1_OBJ']:.5f}\")\n",
        "print(f\"SUBJ – Precision: {metrics['eval_precision_SUBJ']:.5f}, Recall: {metrics['eval_recall_SUBJ']:.5f}, F1: {metrics['eval_f1_SUBJ']:.5f}\")\n",
        "print(f\"Macro‐F1: {metrics['eval_macro_f1']:.5f}\")\n"
      ],
      "metadata": {
        "colab": {
          "base_uri": "https://localhost:8080/",
          "height": 106
        },
        "id": "aWL_-Eoscm1u",
        "outputId": "805d8c59-2933-4729-ebb8-64f6a5b835ef"
      },
      "execution_count": null,
      "outputs": [
        {
          "output_type": "display_data",
          "data": {
            "text/plain": [
              "<IPython.core.display.HTML object>"
            ],
            "text/html": [
              "\n",
              "    <div>\n",
              "      \n",
              "      <progress value='32' max='32' style='width:300px; height:20px; vertical-align: middle;'></progress>\n",
              "      [32/32 00:02]\n",
              "    </div>\n",
              "    "
            ]
          },
          "metadata": {}
        },
        {
          "output_type": "stream",
          "name": "stdout",
          "text": [
            "Result of dev_test data\n",
            "OBJ – Precision: 0.78014, Recall: 0.76923, F1: 0.77465\n",
            "SUBJ – Precision: 0.69725, Recall: 0.71028, F1: 0.70370\n",
            "Macro‐F1: 0.73918\n"
          ]
        }
      ]
    }
  ]
}