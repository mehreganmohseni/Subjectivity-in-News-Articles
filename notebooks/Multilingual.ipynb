{
 "cells": [
  {
   "cell_type": "markdown",
   "metadata": {
    "id": "SbVu6-tt6oo_"
   },
   "source": [
    "##Multilingual"
   ]
  },
  {
   "cell_type": "code",
   "execution_count": 1,
   "metadata": {
    "colab": {
     "base_uri": "https://localhost:8080/"
    },
    "id": "X1s_3uGOyWHw",
    "outputId": "525dbb32-8866-45e6-c176-36c2549d3115"
   },
   "outputs": [
    {
     "name": "stdout",
     "output_type": "stream",
     "text": [
      "Mounted at /content/drive\n"
     ]
    }
   ],
   "source": [
    "from google.colab import drive\n",
    "drive.mount('/content/drive')"
   ]
  },
  {
   "cell_type": "code",
   "execution_count": 2,
   "metadata": {
    "id": "0cVXzdYXLdvF"
   },
   "outputs": [],
   "source": [
    "import pandas as pd\n",
    "from sklearn.preprocessing import LabelEncoder\n",
    "from datasets import Dataset, concatenate_datasets\n",
    "from transformers import AutoTokenizer\n",
    "from collections import Counter\n",
    "import random\n",
    "import torch\n",
    "from transformers import DataCollatorWithPadding, EarlyStoppingCallback\n",
    "from sklearn.metrics import precision_recall_fscore_support, accuracy_score\n",
    "from transformers import AutoModelForSequenceClassification, Trainer, TrainingArguments\n",
    "from torch.utils.data import DataLoader, WeightedRandomSampler\n",
    "from pathlib import Path\n",
    "import numpy as np"
   ]
  },
  {
   "cell_type": "markdown",
   "metadata": {
    "id": "oW0nZxrG38f4"
   },
   "source": [
    "#Load Data"
   ]
  },
  {
   "cell_type": "code",
   "execution_count": null,
   "metadata": {
    "id": "GP5PEFU4yjto"
   },
   "outputs": [],
   "source": [
    "base_dir = '/content/drive/MyDrive/clef2025-checkthat-lab-main-task1/task1/data'\n",
    "train_en_path = f'{base_dir}/english/train_en.tsv'\n",
    "train_it_path = f'{base_dir}/italian/train_it.tsv'\n",
    "train_bg_path = f'{base_dir}/bulgarian/train_bg.tsv'\n",
    "train_ar_path = f'{base_dir}/arabic/train_ar.tsv'\n",
    "train_de_path = f'{base_dir}/german/train_de.tsv'\n",
    "dev_path   = f'{base_dir}/multilingual/dev_test_multilingual.tsv'\n",
    "test_path = f'{base_dir}/multilingual/test_multilingual_labeled.tsv'\n",
    "test_unlabeled_path = f'{base_dir}/multilingual/test_multilingual_unlabeled.tsv'"
   ]
  },
  {
   "cell_type": "code",
   "execution_count": null,
   "metadata": {
    "id": "LvRILJGrNOyQ"
   },
   "outputs": [],
   "source": [
    "train_en_df = pd.read_csv(train_en_path, sep='\\t')\n",
    "train_it_df = pd.read_csv(train_it_path, sep='\\t')\n",
    "train_bg_df = pd.read_csv(train_bg_path, sep='\\t')\n",
    "train_ar_df = pd.read_csv(train_ar_path, sep='\\t')\n",
    "train_de_df = pd.read_csv(train_de_path, sep='\\t')\n",
    "dev_df   = pd.read_csv(dev_path, sep='\\t')\n",
    "test_df = pd.read_csv(test_path, sep='\\t')\n",
    "test_unlabeled_df = pd.read_csv(test_unlabeled_path, sep='\\t')"
   ]
  },
  {
   "cell_type": "markdown",
   "metadata": {
    "id": "z0DYPaKYGX0Q"
   },
   "source": [
    "##Pre Processing"
   ]
  },
  {
   "cell_type": "code",
   "execution_count": null,
   "metadata": {
    "colab": {
     "base_uri": "https://localhost:8080/"
    },
    "id": "8Wsl9Jgtdlfw",
    "outputId": "7d00fcac-b091-4c2c-cc99-283ed6c70c7d"
   },
   "outputs": [
    {
     "name": "stdout",
     "output_type": "stream",
     "text": [
      "Mapped classes: {0: 'OBJ', 1: 'SUBJ'}\n"
     ]
    }
   ],
   "source": [
    "le = LabelEncoder()\n",
    "train_en_df['label_id'] = le.fit_transform(train_en_df['label'])\n",
    "train_it_df['label_id'] = le.fit_transform(train_it_df['label'])\n",
    "train_bg_df['label_id'] = le.fit_transform(train_bg_df['label'])\n",
    "train_ar_df['label_id'] = le.fit_transform(train_ar_df['label'])\n",
    "train_de_df['label_id'] = le.fit_transform(train_de_df['label'])\n",
    "dev_df['label_id'] = le.fit_transform(dev_df['label'])\n",
    "test_df['label_id'] = le.fit_transform(test_df['label'])\n",
    "\n",
    "\n",
    "for df in (train_en_df, train_it_df, train_bg_df, train_ar_df, train_de_df, dev_df, test_df):\n",
    "    df.drop(columns=['label'], inplace=True)\n",
    "\n",
    "for df in (train_en_df, train_it_df, train_bg_df, train_ar_df, train_de_df, dev_df, test_df):\n",
    "    df.rename(columns={'label_id':'labels'}, inplace=True)\n",
    "\n",
    "\n",
    "print(\"Mapped classes:\", dict(enumerate(le.classes_)))\n"
   ]
  },
  {
   "cell_type": "code",
   "execution_count": null,
   "metadata": {
    "id": "Fl61hFt2dpZY"
   },
   "outputs": [],
   "source": [
    "train_en_ds    = Dataset.from_pandas(train_en_df[['sentence','labels']])\n",
    "train_it_ds    = Dataset.from_pandas(train_it_df[['sentence','labels']])\n",
    "train_bg_ds    = Dataset.from_pandas(train_bg_df[['sentence','labels']])\n",
    "train_ar_ds    = Dataset.from_pandas(train_ar_df[['sentence','labels']])\n",
    "train_de_ds    = Dataset.from_pandas(train_de_df[['sentence','labels']])\n",
    "dev_ds      = Dataset.from_pandas(dev_df[['sentence','labels']])\n",
    "test_ds = Dataset.from_pandas(test_df[['sentence','labels']])\n",
    "test_unlabeled_ds = Dataset.from_pandas(test_unlabeled_df[['sentence']])"
   ]
  },
  {
   "cell_type": "markdown",
   "metadata": {
    "id": "3oslBOfCGj2h"
   },
   "source": [
    "Create train set with merge all 5 languages train set"
   ]
  },
  {
   "cell_type": "code",
   "execution_count": null,
   "metadata": {
    "colab": {
     "base_uri": "https://localhost:8080/"
    },
    "id": "f5a_I2xiuUvk",
    "outputId": "e42cc9c9-cbd6-495c-d4d0-f1b162606529"
   },
   "outputs": [
    {
     "name": "stderr",
     "output_type": "stream",
     "text": [
      "/usr/local/lib/python3.11/dist-packages/datasets/table.py:1395: FutureWarning: promote has been superseded by promote_options='default'.\n",
      "  block_group = [InMemoryTable(cls._concat_blocks(list(block_group), axis=axis))]\n",
      "/usr/local/lib/python3.11/dist-packages/datasets/table.py:1421: FutureWarning: promote has been superseded by promote_options='default'.\n",
      "  table = cls._concat_blocks(blocks, axis=0)\n"
     ]
    }
   ],
   "source": [
    "train_multilingual = concatenate_datasets([train_en_ds, train_de_ds, train_it_ds, train_ar_ds, train_bg_ds])"
   ]
  },
  {
   "cell_type": "markdown",
   "metadata": {
    "id": "4yuMusk7Gb3B"
   },
   "source": [
    "Create Balance train set with 60% OBJ and 40% SUBJ"
   ]
  },
  {
   "cell_type": "code",
   "execution_count": null,
   "metadata": {
    "colab": {
     "base_uri": "https://localhost:8080/",
     "height": 337,
     "referenced_widgets": [
      "044006f604c24dd7a6e07516f30604db",
      "2a7014d9a7254de1ac924b8bd6fd090a",
      "6dd2d81ea27048eaaf62c8879437c688",
      "9a4c19b7fc5a439aa6a2b2c37daf95d5",
      "71e819014820469b84aa3c5fd40484e1",
      "3732b8da4c784042b5cc22d4fae26294",
      "2ca294a2980143cc9edbe1f9616f0342",
      "5318a83384b54de59979f05a212f05e5",
      "945051c36bb649c5a61c25230a70dd10",
      "b5804297e8214d86a04c2480cfd9d20b",
      "944ac9ffab294586b5eb8c8b61496d3f",
      "8b5a559ba07b4363beeca7be06ab15df",
      "df04f1ae6c6c4d69b4911b2a46a5f8d3",
      "68232efb3c114bcc9ddbce4b566ff9b1",
      "e95837568e9244ffbbfc8c7a3b5be370",
      "b0245806d80a4a53a2c17c0387dad0b1",
      "887e3e12476a4bc6be542139fec37c93",
      "da797aea51da45b2ad86b0a2e99801e6",
      "6b36be0490d1468ebbe1b755b581302e",
      "4579cadb1a8d49f08f8803031fdeb678",
      "288fb29f45d3498c9090c3338189f5b9",
      "c11a95e13fb940a38253731357363a94",
      "c366a2de0a8e4785afc699fa3b8871e3",
      "e865ecaedf93411bbdcbb4a81409b828",
      "227add0b955242e9aac30c322d4681d1",
      "27796e58da664d9f91570d32e7169afa",
      "bcf5d9dba9b84fc9be49ff4672fb55b8",
      "f18184f3b12a4f4ea6d4c3c56757dec6",
      "921ee0cce05047e298845ad120c1a45a",
      "3ec58a15a39f4432950f9be5b66c42a2",
      "4214929042a04524aedb64a06bf0bc24",
      "e0376c71ff4947d6ba512e51c6059da7",
      "09597eab3a4c4af081479388e92adebf",
      "2358765f34264e588a95b6128d5f48e3",
      "d324300f81c240bc98f35dcba6d2f5aa",
      "bb8d8318f6c34819a10db6f690cf21d8",
      "1b0a0c008161452399ea400faf8fe2fc",
      "b94d9099b3874a8cac2e7f51c3bf0aa3",
      "21d9b747c6b64c598ef1feea7cac321d",
      "0e94871630c84e8f8bd81484590d8b16",
      "681535b71d374873a5cd0eed0c4f7b70",
      "8cb01f81fac04628a2ea15a2e3ced224",
      "e4bc90194df041809a67042248a08792",
      "ae978856711947649259cdb017af07e3",
      "2efb9d92b98547ed8ea29e3c59d2bb33",
      "ade384b3dd134784a11f13ad9c08cfe4",
      "c0d4c1ee42974daa8f6508252ca2cca4",
      "f4c4f47d52924b32bb6854063fe873bf",
      "9e514f7fab044430b765f65dcc77b17f",
      "f1a0a029d9d94fd2bf0da8d4984da795",
      "f0b98bb082274e6f9fa0f69aeef5497c",
      "86b1fb9648f742c6b250dfdfe9f159d6",
      "69daddfcc5364b0285839625ca972583",
      "ee13460c43164b57baf391b3f8b31b12",
      "5166eba6e70847b7b1ac88178ee4f478",
      "1b9f07c5d18d4c28a7347706b5cada82",
      "38a1b8c743b94cd282e6879f2e0ab241",
      "a86f080b62b44c22bf22ad9b5a4f6347",
      "ec669bcd82dd423c8d7013c07e53aeef",
      "0a4d07740f4546879aa5c2dae66fa734",
      "0c185bf064cc4fbb90c839149ced4431",
      "d3c93c210dce423d9be339520088aa52",
      "0a0a23fcbfeb405d840259b30e80c150",
      "f646b37c3ed049fea9a6b995a60bbfbf",
      "cfd7fe968cfe43518d3ea55c581c3482",
      "910c89546c9b4ea99888a686fd6d5eeb",
      "587836856462485a8916c6c257c79775",
      "b01364182efd4c69a4072c205afb32d4",
      "e9b1a4a834e04274a18a85261115b2f6",
      "c7135b51a2364f5086f1711ad0525bb8",
      "1f8f71eaaee149dfae28d53058821b9a",
      "28ccf4abea5142279db014f77ac8d73a",
      "62ce04e625fd4d3b937271739169455f",
      "3566939078f9451f813424c82be0306d",
      "17b508f7d20e4d6fbe1e165b78d96f40",
      "2a187ddc8d4f43cf9f68d1a11d3d596f",
      "0efedeae4c824151b1bbc982fb0f95ad",
      "75ac040914f64320880658a5bb51326f",
      "3accdd63ee8241c99cef8383d4af5100",
      "d14279a4212a438fa05cae41c58a89e7",
      "36f8159f05684bee87ee1afa0ce233aa",
      "0a0e4090a4824dd9870595e9aecd66df",
      "c5638f688f274e0caed09c07f8de3514",
      "bcdaef992ef2417bbdbe0fa80228cc98",
      "3b0cc7b5cee84626b1b09e08aae747b5",
      "ce39506ca66d45859a2b80dd3baf9cc1",
      "632d81ecac5d4a5e9fd61491b9a66f73",
      "77b7b920046a4f60ae1822db40eef01d",
      "3056d13ea2504ea980dcee41d1aab63c",
      "53ed683bdecb4d80b09c671d98bd1ddb",
      "227fb84938fe4a10bc0b4d9c1ce4dc29",
      "a759039467cc4b35bff22377bc564598",
      "1091f4e7d0674cfdbbf1f0e05eab9332",
      "194fce1256e24df7a9eaec76c0586ece",
      "fb8acf199a0e437b8855fce0e0e803a1",
      "5b4a8534379d44bdba2e2dd41afef9b8",
      "1cd087be5c2346739f55ddca1407eb6e",
      "df2e272b43754bc4aa149334bf991175",
      "2baae839da9e496eb0650d35e7b8b594",
      "252b79378b4546989dc0751dbcc35927",
      "b269b883bd904801a55aefc17ddf6cc6",
      "1c03ae29764649b2b6dfdf2a22407f93",
      "587e3ae6b19345579282bcacd8cb29c3",
      "e97cead8e7c04fb1b774a28d79b1614b",
      "cbe81d83972543f19ee32977f0bbc775",
      "9899b289581d4c8fae1ddc9078880b20",
      "07b90d8683d442bdbc0b523b41e4da8c",
      "49031b5806d841c4bd762915715d080d",
      "90e287460b0045fa9b6f970e1124a0f1",
      "d8cf2d4584744c9a9f723c1159183077"
     ]
    },
    "id": "252vkRToOaYH",
    "outputId": "a76a2742-f80e-4d5f-83a7-9a2275b2b7c9"
   },
   "outputs": [
    {
     "data": {
      "application/vnd.jupyter.widget-view+json": {
       "model_id": "044006f604c24dd7a6e07516f30604db",
       "version_major": 2,
       "version_minor": 0
      },
      "text/plain": [
       "Filter:   0%|          | 0/830 [00:00<?, ? examples/s]"
      ]
     },
     "metadata": {},
     "output_type": "display_data"
    },
    {
     "data": {
      "application/vnd.jupyter.widget-view+json": {
       "model_id": "8b5a559ba07b4363beeca7be06ab15df",
       "version_major": 2,
       "version_minor": 0
      },
      "text/plain": [
       "Filter:   0%|          | 0/830 [00:00<?, ? examples/s]"
      ]
     },
     "metadata": {},
     "output_type": "display_data"
    },
    {
     "data": {
      "application/vnd.jupyter.widget-view+json": {
       "model_id": "c366a2de0a8e4785afc699fa3b8871e3",
       "version_major": 2,
       "version_minor": 0
      },
      "text/plain": [
       "Filter:   0%|          | 0/800 [00:00<?, ? examples/s]"
      ]
     },
     "metadata": {},
     "output_type": "display_data"
    },
    {
     "data": {
      "application/vnd.jupyter.widget-view+json": {
       "model_id": "2358765f34264e588a95b6128d5f48e3",
       "version_major": 2,
       "version_minor": 0
      },
      "text/plain": [
       "Filter:   0%|          | 0/800 [00:00<?, ? examples/s]"
      ]
     },
     "metadata": {},
     "output_type": "display_data"
    },
    {
     "data": {
      "application/vnd.jupyter.widget-view+json": {
       "model_id": "2efb9d92b98547ed8ea29e3c59d2bb33",
       "version_major": 2,
       "version_minor": 0
      },
      "text/plain": [
       "Filter:   0%|          | 0/1613 [00:00<?, ? examples/s]"
      ]
     },
     "metadata": {},
     "output_type": "display_data"
    },
    {
     "data": {
      "application/vnd.jupyter.widget-view+json": {
       "model_id": "1b9f07c5d18d4c28a7347706b5cada82",
       "version_major": 2,
       "version_minor": 0
      },
      "text/plain": [
       "Filter:   0%|          | 0/1613 [00:00<?, ? examples/s]"
      ]
     },
     "metadata": {},
     "output_type": "display_data"
    },
    {
     "data": {
      "application/vnd.jupyter.widget-view+json": {
       "model_id": "587836856462485a8916c6c257c79775",
       "version_major": 2,
       "version_minor": 0
      },
      "text/plain": [
       "Filter:   0%|          | 0/2446 [00:00<?, ? examples/s]"
      ]
     },
     "metadata": {},
     "output_type": "display_data"
    },
    {
     "data": {
      "application/vnd.jupyter.widget-view+json": {
       "model_id": "75ac040914f64320880658a5bb51326f",
       "version_major": 2,
       "version_minor": 0
      },
      "text/plain": [
       "Filter:   0%|          | 0/2446 [00:00<?, ? examples/s]"
      ]
     },
     "metadata": {},
     "output_type": "display_data"
    },
    {
     "data": {
      "application/vnd.jupyter.widget-view+json": {
       "model_id": "3056d13ea2504ea980dcee41d1aab63c",
       "version_major": 2,
       "version_minor": 0
      },
      "text/plain": [
       "Filter:   0%|          | 0/691 [00:00<?, ? examples/s]"
      ]
     },
     "metadata": {},
     "output_type": "display_data"
    },
    {
     "data": {
      "application/vnd.jupyter.widget-view+json": {
       "model_id": "252b79378b4546989dc0751dbcc35927",
       "version_major": 2,
       "version_minor": 0
      },
      "text/plain": [
       "Filter:   0%|          | 0/691 [00:00<?, ? examples/s]"
      ]
     },
     "metadata": {},
     "output_type": "display_data"
    }
   ],
   "source": [
    "balanced_splits = []\n",
    "for ds in [train_en_ds, train_de_ds, train_it_ds, train_ar_ds, train_bg_ds]:\n",
    "    # split OBJ / SUBJ\n",
    "    ds_obj  = ds.filter(lambda x: x['labels']==0)\n",
    "    ds_subj = ds.filter(lambda x: x['labels']==1)\n",
    "\n",
    "    # undersample ds_obj to 1.5×|SUBJ| → 60/40\n",
    "    target_obj = int(len(ds_subj) * 1.5)\n",
    "    ds_obj_small = ds_obj.shuffle(seed=42).select(range(min(target_obj, len(ds_obj))))\n",
    "\n",
    "    # re-combine and shuffle per-language\n",
    "    balanced_splits.append(concatenate_datasets([ds_obj_small, ds_subj]).shuffle(seed=42))\n",
    "\n",
    "# now merge all languages into one multilingual set\n",
    "train_multi_balanced = concatenate_datasets(balanced_splits).shuffle(seed=42)\n"
   ]
  },
  {
   "cell_type": "markdown",
   "metadata": {
    "id": "0-JXMDMXGywY"
   },
   "source": [
    "##Model"
   ]
  },
  {
   "cell_type": "markdown",
   "metadata": {
    "id": "E1-2AkOeGxBj"
   },
   "source": [
    "We use the mode : **mdeberta-v3-base**"
   ]
  },
  {
   "cell_type": "code",
   "execution_count": null,
   "metadata": {
    "colab": {
     "base_uri": "https://localhost:8080/",
     "height": 232,
     "referenced_widgets": [
      "0c28f644939e47f1b336d5fb81585106",
      "789aaf28e7f84399a6955c97e9e7820f",
      "dd56b4e2701a484faa7fb634648412eb",
      "411d40202b044627ba05c4be40715e6a",
      "46086bee400f4583ad5d666ea80ba8d4",
      "70749b64a40041b3bc1126ffc7ffc26b",
      "fb5fc83b77fe46feb6465b1735e63a04",
      "f619979615864e0eb58b2db5e31513ae",
      "f5617756de8a4fb193c4b2ae9d05e96f",
      "44e4d78fc3394f40b3e1ff16d75bd8ca",
      "54b396c6b0264162949a8dbd6421d358",
      "2f5fb3148fae49c49439831799e3fc82",
      "e68bfd9ec4c049a1a1f67b923935f425",
      "a297c3e65b4544a39d45114b93e232ba",
      "d314c83ca70745598004d84fef717098",
      "50d336e8a05844a8a6e76d54e794fc7a",
      "f6f662f6675842ffb5d4f1ce34b861af",
      "65f2c94d718a4949b8cb418f51dafff3",
      "7272f5aa42aa41dbb10b1b56b5e066d6",
      "877a10ca2d544a05b6c2de75b8e5c6e5",
      "617d34a982df47a586a8f76153adb068",
      "741c283ad271478bbf3ca0d589f1e8ed",
      "0c6b7d6d31984f5da13c8ff3cacaed45",
      "83c7a1fa2ba441398c486adff8b1bf67",
      "0ea631316a964e8eb91928a4faa11130",
      "c9ec09986c884cc2b146a631720df13b",
      "463955b3a4c34ed3b6531e600c8c7c1d",
      "4581918fde2c4279a0d623dd6489266b",
      "a9ec3958deb04e2ca8bafc81263fd3e4",
      "af83fec5ded944afa11779cf21cb9b0c",
      "a4d3b9db6fa04f69b9e7bee643f018b7",
      "c6f3c53c792a4439a1634d5daf462d68",
      "0884027ac459483089f39a167754b690",
      "7c05b33c8b394a2cb07b95a8d4dcb75a",
      "797eb490bc764764a17763348c814391",
      "19be0482d62e47a9aec2c9014e4fe9bd",
      "9b0af450aff946748c4452668e7d07a6",
      "93b954487ca34eaab0833566f3e483c2",
      "b9549f8b517b48258b48769212fac4b2",
      "1a2889f05ba44dfcaf80e486d526141c",
      "d3ee281b86e2454abff4bb80bee519da",
      "7f8e6318a37249c4817bf936880fdce9",
      "1ef7803fa2ce414c8c9ea908290a60d4",
      "bff2b0640b514e81a988d6fe18b0cb08",
      "ea3485f0fc78482ebc2fe243ababa430",
      "7ca466d097cf4ba7b4b88384f68fe2b8",
      "c2fb4f94cf3944b3bdd7ca0cbe40efcf",
      "a418a0f299224179a451b6b73687a35c",
      "d9c2c83feb3546c0bcf4ffc57ed1f8bb",
      "db2b55cc693644ada59d04c581b7676e",
      "c3b601782bcc492c8c3c3d7eb54e967e",
      "5c0d36323faf4f4e986ed89acecbed09",
      "3d2fd4cd987c442296e21f84b0e22aa8",
      "92a835fb588c4fa19c21bc63b4ee0270",
      "b01a41129cc34e649a51f6af3a82485b"
     ]
    },
    "id": "haRpwKSrdvcv",
    "outputId": "845e9db3-c01c-470c-9b07-de5b23ade9ed"
   },
   "outputs": [
    {
     "name": "stderr",
     "output_type": "stream",
     "text": [
      "/usr/local/lib/python3.11/dist-packages/transformers/convert_slow_tokenizer.py:564: UserWarning: The sentencepiece tokenizer that you are converting to a fast tokenizer uses the byte fallback option which is not implemented in the fast tokenizers. In practice this means that the fast version of the tokenizer can produce unknown tokens whereas the sentencepiece version would have converted these unknown tokens into a sequence of byte tokens matching the original piece of text.\n",
      "  warnings.warn(\n"
     ]
    },
    {
     "data": {
      "application/vnd.jupyter.widget-view+json": {
       "model_id": "0c28f644939e47f1b336d5fb81585106",
       "version_major": 2,
       "version_minor": 0
      },
      "text/plain": [
       "Map:   0%|          | 0/6380 [00:00<?, ? examples/s]"
      ]
     },
     "metadata": {},
     "output_type": "display_data"
    },
    {
     "data": {
      "application/vnd.jupyter.widget-view+json": {
       "model_id": "2f5fb3148fae49c49439831799e3fc82",
       "version_major": 2,
       "version_minor": 0
      },
      "text/plain": [
       "Map:   0%|          | 0/5607 [00:00<?, ? examples/s]"
      ]
     },
     "metadata": {},
     "output_type": "display_data"
    },
    {
     "data": {
      "application/vnd.jupyter.widget-view+json": {
       "model_id": "0c6b7d6d31984f5da13c8ff3cacaed45",
       "version_major": 2,
       "version_minor": 0
      },
      "text/plain": [
       "Map:   0%|          | 0/2224 [00:00<?, ? examples/s]"
      ]
     },
     "metadata": {},
     "output_type": "display_data"
    },
    {
     "data": {
      "application/vnd.jupyter.widget-view+json": {
       "model_id": "7c05b33c8b394a2cb07b95a8d4dcb75a",
       "version_major": 2,
       "version_minor": 0
      },
      "text/plain": [
       "Map:   0%|          | 0/1982 [00:00<?, ? examples/s]"
      ]
     },
     "metadata": {},
     "output_type": "display_data"
    },
    {
     "data": {
      "application/vnd.jupyter.widget-view+json": {
       "model_id": "ea3485f0fc78482ebc2fe243ababa430",
       "version_major": 2,
       "version_minor": 0
      },
      "text/plain": [
       "Map:   0%|          | 0/1982 [00:00<?, ? examples/s]"
      ]
     },
     "metadata": {},
     "output_type": "display_data"
    }
   ],
   "source": [
    "model_name = \"microsoft/mdeberta-v3-base\"\n",
    "tokenizer  = AutoTokenizer.from_pretrained(model_name)\n",
    "\n",
    "max_len = 100\n",
    "\n",
    "def tokenize(batch):\n",
    "    return tokenizer(batch['sentence'],\n",
    "                     padding='max_length',\n",
    "                     truncation=True,\n",
    "                     max_length=max_len)\n",
    "\n",
    "train_multilingual   = train_multilingual.map(tokenize, batched=True)\n",
    "train_multi_balanced    = train_multi_balanced.map(tokenize, batched=True)\n",
    "dev_ds      = dev_ds.map(tokenize, batched=True)\n",
    "test_ds     = test_ds.map(tokenize, batched=True)\n",
    "test_unlabeled_ds = test_unlabeled_ds.map(tokenize, batched=True)\n",
    "\n",
    "\n",
    "cols = ['input_ids','attention_mask','labels']\n",
    "train_multilingual    = train_multilingual.remove_columns([c for c in train_multilingual.column_names if c not in cols])\n",
    "train_multi_balanced   = train_multi_balanced.remove_columns([c for c in train_multi_balanced.column_names if c not in cols])\n",
    "dev_ds      = dev_ds.remove_columns([c for c in dev_ds.column_names if c not in cols])\n",
    "test_ds     = test_ds.remove_columns([c for c in test_ds.column_names if c not in cols])\n",
    "test_unlabeled_ds = test_unlabeled_ds.remove_columns(\n",
    "    [c for c in test_unlabeled_ds.column_names if c not in ['input_ids','attention_mask']])"
   ]
  },
  {
   "cell_type": "markdown",
   "metadata": {
    "id": "P_YEx9GgG9JR"
   },
   "source": [
    " Define a data collator for dynamic padding and a metrics function to compute per-class precision, recall, F1, and macro F1 score.\n"
   ]
  },
  {
   "cell_type": "code",
   "execution_count": 12,
   "metadata": {
    "id": "mVzqVQowfU-g"
   },
   "outputs": [],
   "source": [
    "data_collator = DataCollatorWithPadding(tokenizer)\n",
    "\n",
    "def compute_metrics(eval_pred):\n",
    "    logits, labels = eval_pred\n",
    "    preds = logits.argmax(axis=-1)\n",
    "    precision, recall, f1, _ = precision_recall_fscore_support(\n",
    "        labels, preds, labels=[0,1], zero_division=0\n",
    "    )\n",
    "    return {\n",
    "        'accuracy': accuracy_score(labels, preds),\n",
    "        'precision_OBJ': precision[0],\n",
    "        'recall_OBJ':    recall[0],\n",
    "        'f1_OBJ':        f1[0],\n",
    "        'precision_SUBJ':precision[1],\n",
    "        'recall_SUBJ':   recall[1],\n",
    "        'f1_SUBJ':       f1[1],\n",
    "        'macro_f1':      f1.mean()\n",
    "    }\n"
   ]
  },
  {
   "cell_type": "markdown",
   "metadata": {
    "id": "6ui4nlYCHakV"
   },
   "source": [
    "##Train for unbalanced train set"
   ]
  },
  {
   "cell_type": "markdown",
   "metadata": {
    "id": "LSp18o5gG-dw"
   },
   "source": [
    " Use WeightedRandomSampler to balance class sampling in each batch, and customize Trainer to use this sampler during training.(For unbalances train set)\n"
   ]
  },
  {
   "cell_type": "code",
   "execution_count": null,
   "metadata": {
    "id": "-CNwHEoUJXzu"
   },
   "outputs": [],
   "source": [
    "train_labels = train_multilingual[\"labels\"]\n",
    "\n",
    "\n",
    "counts = Counter(train_labels)\n",
    "total  = counts[0] + counts[1]\n",
    "# weight for OBJ = total/counts[0], for SUBJ = total/counts[1]\n",
    "weights = [ total / counts[label] for label in train_labels ]\n",
    "\n",
    "sampler = WeightedRandomSampler(\n",
    "    weights      = weights,\n",
    "    num_samples  = len(weights),\n",
    "    replacement  = True\n",
    ")\n",
    "\n",
    "\n",
    "class SamplerTrainer(Trainer):\n",
    "    def get_train_dataloader(self):\n",
    "        return DataLoader(\n",
    "            self.train_dataset,\n",
    "            sampler      = sampler,\n",
    "            batch_size   = self.args.per_device_train_batch_size,\n",
    "            collate_fn   = self.data_collator,\n",
    "            num_workers  = self.args.dataloader_num_workers,\n",
    "            pin_memory   = True,\n",
    "        )"
   ]
  },
  {
   "cell_type": "markdown",
   "metadata": {
    "id": "JDUTC_51HOQG"
   },
   "source": [
    " Initialize model **(mdeberta-v3-base)** and training configuration with gradient checkpointing and early stopping.\n",
    "\n",
    " Uses a custom SamplerTrainer to address class imbalance, and selects the best model based on macro F1 score.\n"
   ]
  },
  {
   "cell_type": "code",
   "execution_count": null,
   "metadata": {
    "colab": {
     "base_uri": "https://localhost:8080/"
    },
    "id": "sRxFkq-Mfac7",
    "outputId": "3ee72b56-fabd-448a-e05a-532bb0655a48"
   },
   "outputs": [
    {
     "name": "stderr",
     "output_type": "stream",
     "text": [
      "Some weights of DebertaV2ForSequenceClassification were not initialized from the model checkpoint at microsoft/mdeberta-v3-base and are newly initialized: ['classifier.bias', 'classifier.weight', 'pooler.dense.bias', 'pooler.dense.weight']\n",
      "You should probably TRAIN this model on a down-stream task to be able to use it for predictions and inference.\n",
      "/tmp/ipython-input-75-325660355.py:26: FutureWarning: `tokenizer` is deprecated and will be removed in version 5.0.0 for `SamplerTrainer.__init__`. Use `processing_class` instead.\n",
      "  trainer = SamplerTrainer(\n"
     ]
    }
   ],
   "source": [
    "torch.cuda.empty_cache()\n",
    "model = AutoModelForSequenceClassification.from_pretrained(model_name, num_labels=2)\n",
    "model.gradient_checkpointing_enable()\n",
    "\n",
    "training_args = TrainingArguments(\n",
    "    output_dir= \"/content/results_multi\",\n",
    "    eval_strategy = 'epoch',\n",
    "    save_strategy       = 'epoch',\n",
    "    learning_rate       = 5e-5,\n",
    "    per_device_train_batch_size = 32,\n",
    "    gradient_accumulation_steps   = 2,\n",
    "    per_device_eval_batch_size  = 64,\n",
    "    num_train_epochs    = 4,\n",
    "    weight_decay        = 0.3,\n",
    "    warmup_steps        = 500,\n",
    "    lr_scheduler_type = \"linear\",\n",
    "    fp16                          = True,\n",
    "    load_best_model_at_end=True,\n",
    "    metric_for_best_model = 'macro_f1',\n",
    "    greater_is_better   = True,\n",
    "    logging_dir         = './logs_multi',\n",
    "    logging_steps       = 50,\n",
    "    logging_strategy = 'epoch' ,\n",
    ")\n",
    "\n",
    "trainer = SamplerTrainer(\n",
    "    model           = model,\n",
    "    args            = training_args,\n",
    "    train_dataset   = train_multilingual,\n",
    "    eval_dataset    = dev_ds,\n",
    "    tokenizer       = tokenizer,\n",
    "    data_collator   = data_collator,\n",
    "    compute_metrics = compute_metrics,\n",
    "    callbacks=[EarlyStoppingCallback(early_stopping_patience=1)]\n",
    ")\n",
    "\n",
    "\n"
   ]
  },
  {
   "cell_type": "markdown",
   "metadata": {
    "id": "Oq8FGJ4GHTst"
   },
   "source": [
    "Train and fine tuning model and save the model."
   ]
  },
  {
   "cell_type": "code",
   "execution_count": null,
   "metadata": {
    "colab": {
     "base_uri": "https://localhost:8080/",
     "height": 186
    },
    "id": "ss4SWIqlU_Iu",
    "outputId": "779ae9c7-f1b8-4ca2-a31c-afa1b5e9f926"
   },
   "outputs": [
    {
     "data": {
      "text/html": [
       "\n",
       "    <div>\n",
       "      \n",
       "      <progress value='300' max='400' style='width:300px; height:20px; vertical-align: middle;'></progress>\n",
       "      [300/400 12:12 < 04:05, 0.41 it/s, Epoch 3/4]\n",
       "    </div>\n",
       "    <table border=\"1\" class=\"dataframe\">\n",
       "  <thead>\n",
       " <tr style=\"text-align: left;\">\n",
       "      <th>Epoch</th>\n",
       "      <th>Training Loss</th>\n",
       "      <th>Validation Loss</th>\n",
       "      <th>Accuracy</th>\n",
       "      <th>Precision Obj</th>\n",
       "      <th>Recall Obj</th>\n",
       "      <th>F1 Obj</th>\n",
       "      <th>Precision Subj</th>\n",
       "      <th>Recall Subj</th>\n",
       "      <th>F1 Subj</th>\n",
       "      <th>Macro F1</th>\n",
       "    </tr>\n",
       "  </thead>\n",
       "  <tbody>\n",
       "    <tr>\n",
       "      <td>1</td>\n",
       "      <td>0.689000</td>\n",
       "      <td>0.630918</td>\n",
       "      <td>0.647932</td>\n",
       "      <td>0.752967</td>\n",
       "      <td>0.692833</td>\n",
       "      <td>0.721649</td>\n",
       "      <td>0.486301</td>\n",
       "      <td>0.561265</td>\n",
       "      <td>0.521101</td>\n",
       "      <td>0.621375</td>\n",
       "    </tr>\n",
       "    <tr>\n",
       "      <td>2</td>\n",
       "      <td>0.545500</td>\n",
       "      <td>0.533539</td>\n",
       "      <td>0.724371</td>\n",
       "      <td>0.807359</td>\n",
       "      <td>0.763823</td>\n",
       "      <td>0.784988</td>\n",
       "      <td>0.587112</td>\n",
       "      <td>0.648221</td>\n",
       "      <td>0.616155</td>\n",
       "      <td>0.700572</td>\n",
       "    </tr>\n",
       "    <tr>\n",
       "      <td>3</td>\n",
       "      <td>0.448400</td>\n",
       "      <td>0.558001</td>\n",
       "      <td>0.714029</td>\n",
       "      <td>0.806356</td>\n",
       "      <td>0.744710</td>\n",
       "      <td>0.774308</td>\n",
       "      <td>0.570608</td>\n",
       "      <td>0.654809</td>\n",
       "      <td>0.609816</td>\n",
       "      <td>0.692062</td>\n",
       "    </tr>\n",
       "  </tbody>\n",
       "</table><p>"
      ],
      "text/plain": [
       "<IPython.core.display.HTML object>"
      ]
     },
     "metadata": {},
     "output_type": "display_data"
    },
    {
     "name": "stdout",
     "output_type": "stream",
     "text": [
      "Final model saved to /content/drive/MyDrive/clef2025-checkthat-lab-main-task1/task1/models/Multilingual\n"
     ]
    }
   ],
   "source": [
    "trainer.train()\n",
    "output_dir = \"/content/drive/MyDrive/clef2025-checkthat-lab-main-task1/task1/models/Multilingual\"\n",
    "Path(output_dir).mkdir(parents=True, exist_ok=True)\n",
    "trainer.save_model(output_dir)\n",
    "\n",
    "print(f\"Final model saved to {output_dir}\")\n"
   ]
  },
  {
   "cell_type": "code",
   "execution_count": null,
   "metadata": {
    "colab": {
     "base_uri": "https://localhost:8080/",
     "height": 196
    },
    "id": "CnmfNKrj39dr",
    "outputId": "7e12ad6f-9f37-452c-b54f-c63ce9da4c66"
   },
   "outputs": [
    {
     "name": "stdout",
     "output_type": "stream",
     "text": [
      "{'loss': 0.689, 'grad_norm': 2.714303970336914, 'learning_rate': 9.900000000000002e-06, 'epoch': 1.0, 'step': 100}\n",
      "{'eval_loss': 0.6309181451797485, 'eval_accuracy': 0.647931654676259, 'eval_precision_OBJ': 0.7529673590504451, 'eval_recall_OBJ': 0.6928327645051194, 'eval_f1_OBJ': 0.7216494845360825, 'eval_precision_SUBJ': 0.4863013698630137, 'eval_recall_SUBJ': 0.5612648221343873, 'eval_f1_SUBJ': 0.5211009174311927, 'eval_macro_f1': 0.6213752009836375, 'eval_runtime': 4.8678, 'eval_samples_per_second': 456.879, 'eval_steps_per_second': 7.19, 'epoch': 1.0, 'step': 100}\n",
      "{'loss': 0.5455, 'grad_norm': 5.9713358879089355, 'learning_rate': 1.9900000000000003e-05, 'epoch': 2.0, 'step': 200}\n",
      "{'eval_loss': 0.5335390567779541, 'eval_accuracy': 0.7243705035971223, 'eval_precision_OBJ': 0.8073593073593074, 'eval_recall_OBJ': 0.7638225255972696, 'eval_f1_OBJ': 0.7849877236057524, 'eval_precision_SUBJ': 0.5871121718377088, 'eval_recall_SUBJ': 0.6482213438735178, 'eval_f1_SUBJ': 0.6161552911709455, 'eval_macro_f1': 0.700571507388349, 'eval_runtime': 4.9071, 'eval_samples_per_second': 453.22, 'eval_steps_per_second': 7.133, 'epoch': 2.0, 'step': 200}\n",
      "{'loss': 0.4484, 'grad_norm': 8.34755802154541, 'learning_rate': 2.9900000000000002e-05, 'epoch': 3.0, 'step': 300}\n",
      "{'eval_loss': 0.5580007433891296, 'eval_accuracy': 0.7140287769784173, 'eval_precision_OBJ': 0.8063562453806357, 'eval_recall_OBJ': 0.7447098976109215, 'eval_f1_OBJ': 0.7743080198722498, 'eval_precision_SUBJ': 0.5706084959816303, 'eval_recall_SUBJ': 0.6548089591567853, 'eval_f1_SUBJ': 0.6098159509202454, 'eval_macro_f1': 0.6920619853962476, 'eval_runtime': 4.8445, 'eval_samples_per_second': 459.079, 'eval_steps_per_second': 7.225, 'epoch': 3.0, 'step': 300}\n"
     ]
    },
    {
     "data": {
      "text/html": [
       "\n",
       "    <div>\n",
       "      \n",
       "      <progress value='135' max='100' style='width:300px; height:20px; vertical-align: middle;'></progress>\n",
       "      [100/100 00:18]\n",
       "    </div>\n",
       "    "
      ],
      "text/plain": [
       "<IPython.core.display.HTML object>"
      ]
     },
     "metadata": {},
     "output_type": "display_data"
    },
    {
     "name": "stdout",
     "output_type": "stream",
     "text": [
      "Train macro-F1: 0.7484437108369542\n",
      "Val   macro-F1: 0.700571507388349\n"
     ]
    }
   ],
   "source": [
    "for record in trainer.state.log_history:\n",
    "    if 'eval_loss' in record or 'loss' in record:\n",
    "        print(record)\n",
    "\n",
    "train_metrics = trainer.evaluate(train_multilingual)\n",
    "val_metrics   = trainer.evaluate(dev_ds)\n",
    "print(\"Train macro-F1:\", train_metrics['eval_macro_f1'])\n",
    "print(\"Val   macro-F1:\", val_metrics['eval_macro_f1'])\n"
   ]
  },
  {
   "cell_type": "markdown",
   "metadata": {
    "id": "zYRebt9VHlsx"
   },
   "source": [
    "Load Model"
   ]
  },
  {
   "cell_type": "code",
   "execution_count": null,
   "metadata": {
    "colab": {
     "base_uri": "https://localhost:8080/"
    },
    "id": "n50yDmjjHhm5",
    "outputId": "a9edcda8-3e0f-4d2d-d8b7-40b9a2f80fe0"
   },
   "outputs": [
    {
     "name": "stderr",
     "output_type": "stream",
     "text": [
      "/tmp/ipython-input-78-1435850064.py:10: FutureWarning: `tokenizer` is deprecated and will be removed in version 5.0.0 for `Trainer.__init__`. Use `processing_class` instead.\n",
      "  trainer = Trainer(\n"
     ]
    }
   ],
   "source": [
    "\n",
    "output_dir = \"/content/drive/MyDrive/clef2025-checkthat-lab-main-task1/task1/models/Multilingual\"\n",
    "model     = AutoModelForSequenceClassification.from_pretrained(output_dir)\n",
    "tokenizer = AutoTokenizer.from_pretrained(output_dir)\n",
    "\n",
    "\n",
    "data_collator = DataCollatorWithPadding(tokenizer)\n",
    "\n",
    "\n",
    "trainer = Trainer(\n",
    "    model            = model,\n",
    "    tokenizer        = tokenizer,\n",
    "    data_collator   = data_collator,\n",
    "    compute_metrics = compute_metrics\n",
    ")"
   ]
  },
  {
   "cell_type": "markdown",
   "metadata": {
    "id": "M8lXTiD_HpF7"
   },
   "source": [
    "##Result"
   ]
  },
  {
   "cell_type": "markdown",
   "metadata": {
    "id": "lEc_kKBXHqj3"
   },
   "source": [
    "Result for test data(labeled): **Macro F1: 0.68308**\n",
    "\n"
   ]
  },
  {
   "cell_type": "code",
   "execution_count": null,
   "metadata": {
    "colab": {
     "base_uri": "https://localhost:8080/",
     "height": 106
    },
    "id": "zvz6tMoXFFDy",
    "outputId": "48517ad6-1634-44d9-b63c-8d5c99923949"
   },
   "outputs": [
    {
     "data": {
      "text/html": [
       "\n",
       "    <div>\n",
       "      \n",
       "      <progress value='248' max='248' style='width:300px; height:20px; vertical-align: middle;'></progress>\n",
       "      [248/248 00:07]\n",
       "    </div>\n",
       "    "
      ],
      "text/plain": [
       "<IPython.core.display.HTML object>"
      ]
     },
     "metadata": {},
     "output_type": "display_data"
    },
    {
     "name": "stdout",
     "output_type": "stream",
     "text": [
      "Result of test data\n",
      "OBJ – Precision: 0.88194, Recall: 0.64123, F1: 0.74257\n",
      "SUBJ – Precision: 0.50656, Recall: 0.81099, F1: 0.62360\n",
      "Macro‐F1: 0.68308\n"
     ]
    }
   ],
   "source": [
    "metrics = trainer.evaluate(test_ds)\n",
    "\n",
    "print(\"Result of test data\")\n",
    "print(f\"OBJ – Precision: {metrics['eval_precision_OBJ']:.5f}, Recall: {metrics['eval_recall_OBJ']:.5f}, F1: {metrics['eval_f1_OBJ']:.5f}\")\n",
    "print(f\"SUBJ – Precision: {metrics['eval_precision_SUBJ']:.5f}, Recall: {metrics['eval_recall_SUBJ']:.5f}, F1: {metrics['eval_f1_SUBJ']:.5f}\")\n",
    "print(f\"Macro‐F1: {metrics['eval_macro_f1']:.5f}\")\n"
   ]
  },
  {
   "cell_type": "markdown",
   "metadata": {
    "id": "Eu08lJY1H4wz"
   },
   "source": [
    "Prediction for test unlabeled data and save it"
   ]
  },
  {
   "cell_type": "code",
   "execution_count": null,
   "metadata": {
    "colab": {
     "base_uri": "https://localhost:8080/",
     "height": 34
    },
    "id": "Obvi8k-4HrZc",
    "outputId": "c4257c8e-85b9-40a0-dbfa-d53eaa0585c0"
   },
   "outputs": [
    {
     "data": {
      "text/html": [],
      "text/plain": [
       "<IPython.core.display.HTML object>"
      ]
     },
     "metadata": {},
     "output_type": "display_data"
    },
    {
     "name": "stdout",
     "output_type": "stream",
     "text": [
      "Saved predictions to /content/drive/MyDrive/clef2025-checkthat-lab-main-task1/task1/unlabeld_predict/multilingual/multilingual_predictions.tsv\n"
     ]
    }
   ],
   "source": [
    "pred_out = trainer.predict(test_unlabeled_ds)\n",
    "logits   = pred_out.predictions\n",
    "pred_ids = logits.argmax(axis=-1)\n",
    "\n",
    "pred_labels = le.inverse_transform(pred_ids)\n",
    "\n",
    "\n",
    "df = pd.DataFrame({\n",
    "    'sentence': test_unlabeled_df['sentence'],\n",
    "    'prediction': pred_labels\n",
    "})\n",
    "save_path = \"/content/drive/MyDrive/clef2025-checkthat-lab-main-task1/task1/unlabeld_predict/multilingual/multilingual_predictions.tsv\"\n",
    "df.to_csv(save_path, sep='\\t', index=False)\n",
    "\n",
    "print(f\"Saved predictions to {save_path}\")\n"
   ]
  },
  {
   "cell_type": "markdown",
   "metadata": {
    "id": "xtc8LLukH_st"
   },
   "source": [
    "##Train for balanced train set"
   ]
  },
  {
   "cell_type": "code",
   "execution_count": null,
   "metadata": {
    "id": "Fw1sRwWJJ1qj"
   },
   "outputs": [],
   "source": [
    "train_labels = train_multi_balanced[\"labels\"]\n",
    "\n",
    "\n",
    "counts = Counter(train_labels)\n",
    "total  = counts[0] + counts[1]\n",
    "# weight for OBJ = total/counts[0], for SUBJ = total/counts[1]\n",
    "weights = [ total / counts[label] for label in train_labels ]\n",
    "\n",
    "sampler = WeightedRandomSampler(\n",
    "    weights      = weights,\n",
    "    num_samples  = len(weights),\n",
    "    replacement  = True\n",
    ")\n",
    "\n",
    "\n",
    "class SamplerTrainer(Trainer):\n",
    "    def get_train_dataloader(self):\n",
    "        return DataLoader(\n",
    "            self.train_dataset,\n",
    "            sampler      = sampler,\n",
    "            batch_size   = self.args.per_device_train_batch_size,\n",
    "            collate_fn   = self.data_collator,\n",
    "            num_workers  = self.args.dataloader_num_workers,\n",
    "            pin_memory   = True,\n",
    "        )"
   ]
  },
  {
   "cell_type": "markdown",
   "metadata": {
    "id": "InqT10wWIHuc"
   },
   "source": [
    "We use the model **mdeberta-v3-base**"
   ]
  },
  {
   "cell_type": "code",
   "execution_count": null,
   "metadata": {
    "colab": {
     "base_uri": "https://localhost:8080/"
    },
    "id": "m5Mr4rQONeQz",
    "outputId": "1c922e74-7879-4351-a3df-f06301fcac81"
   },
   "outputs": [
    {
     "name": "stderr",
     "output_type": "stream",
     "text": [
      "Some weights of DebertaV2ForSequenceClassification were not initialized from the model checkpoint at microsoft/mdeberta-v3-base and are newly initialized: ['classifier.bias', 'classifier.weight', 'pooler.dense.bias', 'pooler.dense.weight']\n",
      "You should probably TRAIN this model on a down-stream task to be able to use it for predictions and inference.\n",
      "/tmp/ipython-input-57-2697528649.py:26: FutureWarning: `tokenizer` is deprecated and will be removed in version 5.0.0 for `SamplerTrainer.__init__`. Use `processing_class` instead.\n",
      "  trainer = SamplerTrainer(\n"
     ]
    }
   ],
   "source": [
    "torch.cuda.empty_cache()\n",
    "model = AutoModelForSequenceClassification.from_pretrained(model_name, num_labels=2)\n",
    "model.gradient_checkpointing_enable()\n",
    "\n",
    "training_args = TrainingArguments(\n",
    "    output_dir= \"/content/results_multi\",\n",
    "    eval_strategy = 'epoch',\n",
    "    save_strategy       = 'epoch',\n",
    "    learning_rate       = 5e-5,\n",
    "    per_device_train_batch_size = 32,\n",
    "    gradient_accumulation_steps   = 2,\n",
    "    per_device_eval_batch_size  = 64,\n",
    "    num_train_epochs    = 6,\n",
    "    weight_decay        = 0.3,\n",
    "    warmup_steps        = 500,\n",
    "    lr_scheduler_type = \"linear\",\n",
    "    fp16                          = True,\n",
    "    load_best_model_at_end=True,\n",
    "    metric_for_best_model = 'macro_f1',\n",
    "    greater_is_better   = True,\n",
    "    logging_dir         = './logs_multi',\n",
    "    logging_steps       = 50,\n",
    "    logging_strategy = 'epoch' ,\n",
    ")\n",
    "\n",
    "trainer = SamplerTrainer(\n",
    "    model           = model,\n",
    "    args            = training_args,\n",
    "    train_dataset   = train_multi_balanced,\n",
    "    eval_dataset    = dev_ds,\n",
    "    tokenizer       = tokenizer,\n",
    "    data_collator   = data_collator,\n",
    "    compute_metrics = compute_metrics,\n",
    "    callbacks=[EarlyStoppingCallback(early_stopping_patience=1)]\n",
    ")\n",
    "\n",
    "\n"
   ]
  },
  {
   "cell_type": "markdown",
   "metadata": {
    "id": "ie4VgesCIPJE"
   },
   "source": [
    "Train and fine tuning"
   ]
  },
  {
   "cell_type": "code",
   "execution_count": null,
   "metadata": {
    "colab": {
     "base_uri": "https://localhost:8080/",
     "height": 235
    },
    "id": "9JCa4QxoJ-t5",
    "outputId": "56c8330c-cc8b-478f-cfaf-be26d589b351"
   },
   "outputs": [
    {
     "data": {
      "text/html": [
       "\n",
       "    <div>\n",
       "      \n",
       "      <progress value='352' max='528' style='width:300px; height:20px; vertical-align: middle;'></progress>\n",
       "      [352/528 10:44 < 05:24, 0.54 it/s, Epoch 4/6]\n",
       "    </div>\n",
       "    <table border=\"1\" class=\"dataframe\">\n",
       "  <thead>\n",
       " <tr style=\"text-align: left;\">\n",
       "      <th>Epoch</th>\n",
       "      <th>Training Loss</th>\n",
       "      <th>Validation Loss</th>\n",
       "      <th>Accuracy</th>\n",
       "      <th>Precision Obj</th>\n",
       "      <th>Recall Obj</th>\n",
       "      <th>F1 Obj</th>\n",
       "      <th>Precision Subj</th>\n",
       "      <th>Recall Subj</th>\n",
       "      <th>F1 Subj</th>\n",
       "      <th>Macro F1</th>\n",
       "    </tr>\n",
       "  </thead>\n",
       "  <tbody>\n",
       "    <tr>\n",
       "      <td>1</td>\n",
       "      <td>0.691000</td>\n",
       "      <td>0.670240</td>\n",
       "      <td>0.671313</td>\n",
       "      <td>0.781874</td>\n",
       "      <td>0.694881</td>\n",
       "      <td>0.735815</td>\n",
       "      <td>0.515184</td>\n",
       "      <td>0.625823</td>\n",
       "      <td>0.565140</td>\n",
       "      <td>0.650477</td>\n",
       "    </tr>\n",
       "    <tr>\n",
       "      <td>2</td>\n",
       "      <td>0.609900</td>\n",
       "      <td>0.649215</td>\n",
       "      <td>0.708183</td>\n",
       "      <td>0.800442</td>\n",
       "      <td>0.741980</td>\n",
       "      <td>0.770103</td>\n",
       "      <td>0.563510</td>\n",
       "      <td>0.642951</td>\n",
       "      <td>0.600615</td>\n",
       "      <td>0.685359</td>\n",
       "    </tr>\n",
       "    <tr>\n",
       "      <td>3</td>\n",
       "      <td>0.533800</td>\n",
       "      <td>0.543591</td>\n",
       "      <td>0.736061</td>\n",
       "      <td>0.783592</td>\n",
       "      <td>0.827986</td>\n",
       "      <td>0.805178</td>\n",
       "      <td>0.627219</td>\n",
       "      <td>0.558630</td>\n",
       "      <td>0.590941</td>\n",
       "      <td>0.698059</td>\n",
       "    </tr>\n",
       "    <tr>\n",
       "      <td>4</td>\n",
       "      <td>0.435400</td>\n",
       "      <td>0.573393</td>\n",
       "      <td>0.734263</td>\n",
       "      <td>0.772784</td>\n",
       "      <td>0.845051</td>\n",
       "      <td>0.807304</td>\n",
       "      <td>0.635048</td>\n",
       "      <td>0.520422</td>\n",
       "      <td>0.572049</td>\n",
       "      <td>0.689676</td>\n",
       "    </tr>\n",
       "  </tbody>\n",
       "</table><p>"
      ],
      "text/plain": [
       "<IPython.core.display.HTML object>"
      ]
     },
     "metadata": {},
     "output_type": "display_data"
    },
    {
     "data": {
      "text/plain": [
       "TrainOutput(global_step=352, training_loss=0.5675324960188433, metrics={'train_runtime': 645.6598, 'train_samples_per_second': 52.105, 'train_steps_per_second': 0.818, 'total_flos': 1152570425428800.0, 'train_loss': 0.5675324960188433, 'epoch': 4.0})"
      ]
     },
     "execution_count": 58,
     "metadata": {},
     "output_type": "execute_result"
    }
   ],
   "source": [
    "trainer.train()"
   ]
  },
  {
   "cell_type": "markdown",
   "metadata": {
    "id": "KssTq-aHIRh2"
   },
   "source": [
    "Save the best model"
   ]
  },
  {
   "cell_type": "code",
   "execution_count": null,
   "metadata": {
    "colab": {
     "base_uri": "https://localhost:8080/"
    },
    "id": "ccYGGyhgRJ8y",
    "outputId": "ccbab18e-3b49-4585-e723-729c1c2c703a"
   },
   "outputs": [
    {
     "name": "stdout",
     "output_type": "stream",
     "text": [
      "Final model saved to /content/drive/MyDrive/clef2025-checkthat-lab-main-task1/task1/models/Multilingual_balanced\n"
     ]
    }
   ],
   "source": [
    "output_dir = \"/content/drive/MyDrive/clef2025-checkthat-lab-main-task1/task1/models/Multilingual_balanced\"\n",
    "Path(output_dir).mkdir(parents=True, exist_ok=True)\n",
    "trainer.save_model(output_dir)\n",
    "\n",
    "print(f\"Final model saved to {output_dir}\")"
   ]
  },
  {
   "cell_type": "markdown",
   "metadata": {
    "id": "KpMokPjTITn9"
   },
   "source": [
    "Load model"
   ]
  },
  {
   "cell_type": "code",
   "execution_count": null,
   "metadata": {
    "colab": {
     "base_uri": "https://localhost:8080/"
    },
    "id": "G_8qkmO1RNyZ",
    "outputId": "a0874fed-e124-4d6f-a14f-00c98cdfb170"
   },
   "outputs": [
    {
     "name": "stderr",
     "output_type": "stream",
     "text": [
      "/tmp/ipython-input-62-793152308.py:10: FutureWarning: `tokenizer` is deprecated and will be removed in version 5.0.0 for `Trainer.__init__`. Use `processing_class` instead.\n",
      "  trainer = Trainer(\n"
     ]
    }
   ],
   "source": [
    "\n",
    "output_dir = \"/content/drive/MyDrive/clef2025-checkthat-lab-main-task1/task1/models/Multilingual_balanced\"\n",
    "model     = AutoModelForSequenceClassification.from_pretrained(output_dir)\n",
    "tokenizer = AutoTokenizer.from_pretrained(output_dir)\n",
    "\n",
    "\n",
    "data_collator = DataCollatorWithPadding(tokenizer)\n",
    "\n",
    "\n",
    "trainer = Trainer(\n",
    "    model            = model,\n",
    "    tokenizer        = tokenizer,\n",
    "    data_collator   = data_collator,\n",
    "    compute_metrics = compute_metrics\n",
    ")"
   ]
  },
  {
   "cell_type": "markdown",
   "metadata": {
    "id": "A9du1G-eIXJO"
   },
   "source": [
    "##Result"
   ]
  },
  {
   "cell_type": "markdown",
   "metadata": {
    "id": "4C9m7Z5cIYsd"
   },
   "source": [
    "Result for test data(labeled): **Macro F1: 0.72472**\n",
    "\n"
   ]
  },
  {
   "cell_type": "code",
   "execution_count": null,
   "metadata": {
    "colab": {
     "base_uri": "https://localhost:8080/",
     "height": 106
    },
    "id": "nQqtspF7KAOq",
    "outputId": "b8f1b547-90b3-476a-c419-ed92a963487d"
   },
   "outputs": [
    {
     "data": {
      "text/html": [
       "\n",
       "    <div>\n",
       "      \n",
       "      <progress value='496' max='248' style='width:300px; height:20px; vertical-align: middle;'></progress>\n",
       "      [248/248 00:23]\n",
       "    </div>\n",
       "    "
      ],
      "text/plain": [
       "<IPython.core.display.HTML object>"
      ]
     },
     "metadata": {},
     "output_type": "display_data"
    },
    {
     "name": "stdout",
     "output_type": "stream",
     "text": [
      "Result of test data\n",
      "OBJ – Precision: 0.83246, Recall: 0.81658, F1: 0.82444\n",
      "SUBJ – Precision: 0.61240, Recall: 0.63813, F1: 0.62500\n",
      "Macro‐F1: 0.72472\n"
     ]
    }
   ],
   "source": [
    "\n",
    "metrics = trainer.evaluate(test_ds)\n",
    "\n",
    "print(\"Result of test data\")\n",
    "print(f\"OBJ – Precision: {metrics['eval_precision_OBJ']:.5f}, Recall: {metrics['eval_recall_OBJ']:.5f}, F1: {metrics['eval_f1_OBJ']:.5f}\")\n",
    "print(f\"SUBJ – Precision: {metrics['eval_precision_SUBJ']:.5f}, Recall: {metrics['eval_recall_SUBJ']:.5f}, F1: {metrics['eval_f1_SUBJ']:.5f}\")\n",
    "print(f\"Macro‐F1: {metrics['eval_macro_f1']:.5f}\")\n"
   ]
  },
  {
   "cell_type": "code",
   "execution_count": null,
   "metadata": {
    "colab": {
     "base_uri": "https://localhost:8080/",
     "height": 54
    },
    "id": "Uw2ywY14Dsab",
    "outputId": "1c4209fb-6f0c-47fe-c45e-6db34d4d1272"
   },
   "outputs": [
    {
     "data": {
      "text/html": [],
      "text/plain": [
       "<IPython.core.display.HTML object>"
      ]
     },
     "metadata": {},
     "output_type": "display_data"
    },
    {
     "name": "stdout",
     "output_type": "stream",
     "text": [
      "Saved predictions to /content/drive/MyDrive/clef2025-checkthat-lab-main-task1/task1/unlabeld_predict/multilingual/multilingual_balanced_predictions.tsv\n"
     ]
    }
   ],
   "source": [
    "pred_out = trainer.predict(test_unlabeled_ds)\n",
    "logits   = pred_out.predictions\n",
    "pred_ids = logits.argmax(axis=-1)\n",
    "\n",
    "pred_labels = le.inverse_transform(pred_ids)\n",
    "\n",
    "df = pd.DataFrame({\n",
    "    'sentence': test_unlabeled_df['sentence'],\n",
    "    'prediction': pred_labels\n",
    "})\n",
    "save_path = \"/content/drive/MyDrive/clef2025-checkthat-lab-main-task1/task1/unlabeld_predict/multilingual/multilingual_balanced_predictions.tsv\"\n",
    "df.to_csv(save_path, sep='\\t', index=False)\n",
    "\n",
    "print(f\"Saved predictions to {save_path}\")\n"
   ]
  },
  {
   "cell_type": "markdown",
   "metadata": {
    "id": "Nj4276q7JP_7"
   },
   "source": [
    "##Test for each language"
   ]
  },
  {
   "cell_type": "markdown",
   "metadata": {
    "id": "RSiwTkimI02r"
   },
   "source": [
    "In this part, we evaluate and predict our best model for each Test data from the each language"
   ]
  },
  {
   "cell_type": "code",
   "execution_count": 15,
   "metadata": {
    "id": "tfZ_LmznJNjY"
   },
   "outputs": [],
   "source": [
    "base_dir = '/content/drive/MyDrive/clef2025-checkthat-lab-main-task1/task1/data'\n",
    "test_en_path = f'{base_dir}/english/test_en_labeled.tsv'\n",
    "test_it_path = f'{base_dir}/italian/test_it_labeled.tsv'\n",
    "dev_test_bg_path = f'{base_dir}/bulgarian/dev_test_bg.tsv'\n",
    "test_ar_path = f'{base_dir}/arabic/test_ar_labeled.tsv'\n",
    "test_de_path = f'{base_dir}/german/test_de_labeled.tsv'\n"
   ]
  },
  {
   "cell_type": "code",
   "execution_count": 16,
   "metadata": {
    "id": "D9GMfzTZKG4q"
   },
   "outputs": [],
   "source": [
    "test_en_df = pd.read_csv(test_en_path, sep='\\t')\n",
    "test_it_df = pd.read_csv(test_it_path, sep='\\t')\n",
    "dev_test_bg_df = pd.read_csv(dev_test_bg_path, sep='\\t')\n",
    "test_ar_df = pd.read_csv(test_ar_path, sep='\\t')\n",
    "test_de_df = pd.read_csv(test_de_path, sep='\\t')"
   ]
  },
  {
   "cell_type": "code",
   "execution_count": 17,
   "metadata": {
    "colab": {
     "base_uri": "https://localhost:8080/"
    },
    "id": "yA8ibF2NK2N-",
    "outputId": "d240d39b-6324-4a54-c67c-db7b5e3f6aac"
   },
   "outputs": [
    {
     "name": "stdout",
     "output_type": "stream",
     "text": [
      "Mapped classes: {0: 'OBJ', 1: 'SUBJ'}\n"
     ]
    }
   ],
   "source": [
    "le = LabelEncoder()\n",
    "test_en_df['label_id'] = le.fit_transform(test_en_df['label'])\n",
    "test_it_df['label_id'] = le.fit_transform(test_it_df['label'])\n",
    "test_de_df['label_id'] = le.fit_transform(test_de_df['label'])\n",
    "test_ar_df['label_id'] = le.fit_transform(test_ar_df['label'])\n",
    "dev_test_bg_df['label_id'] = le.fit_transform(dev_test_bg_df['label'])\n",
    "\n",
    "\n",
    "\n",
    "for df in (test_en_df, test_de_df, test_ar_df, test_it_df, dev_test_bg_df):\n",
    "    df.drop(columns=['label'], inplace=True)\n",
    "\n",
    "for df in (test_en_df, test_de_df, test_ar_df, test_it_df, dev_test_bg_df):\n",
    "    df.rename(columns={'label_id':'labels'}, inplace=True)\n",
    "\n",
    "print(\"Mapped classes:\", dict(enumerate(le.classes_)))\n"
   ]
  },
  {
   "cell_type": "code",
   "execution_count": 18,
   "metadata": {
    "id": "EYT2n6vFLcMq"
   },
   "outputs": [],
   "source": [
    "test_en_ds = Dataset.from_pandas(test_en_df[['sentence','labels']])\n",
    "test_it_ds = Dataset.from_pandas(test_it_df[['sentence','labels']])\n",
    "test_de_ds = Dataset.from_pandas(test_de_df[['sentence','labels']])\n",
    "test_ar_ds = Dataset.from_pandas(test_ar_df[['sentence','labels']])\n",
    "dev_test_bg_ds = Dataset.from_pandas(dev_test_bg_df[['sentence','labels']])"
   ]
  },
  {
   "cell_type": "code",
   "execution_count": 19,
   "metadata": {
    "colab": {
     "base_uri": "https://localhost:8080/",
     "height": 232,
     "referenced_widgets": [
      "17fb76523dd1484bbef0966ba0ba4240",
      "9d21065be42044bd841961f091ec5167",
      "68f311d280834673b5ef2c420f1bd2b1",
      "ae030619ef994685b44d9e897fe968bc",
      "a16a5496cfa64f2cb155eba40232a846",
      "a76ef2770aad4c3fa0fdc5607f61d175",
      "ee99372e3369469f9539fb92dd7832c1",
      "fd0fc979d8a54748b5ef2bd228169eac",
      "4a75cf9a56b14bbc941ecc5af3000d49",
      "a2ff5f29b11242999ed362ac74597ecb",
      "6436bbc569334d3aae316582818438e4",
      "951e324f8fe4491a8934242dbe5a0265",
      "eca3665eb2e3482189b1ca9248f35f81",
      "e9f82fca2a7e4ed182aafaeaa445a592",
      "905ae321f3914a5891e27ac1274a9078",
      "739e1c8d2d3d4b6db0d981e0a4a01c6d",
      "d57e43343de144cebedd32840cb36951",
      "ca451d29afd64919b1f379ae44769ce9",
      "fa06a4ccfb92439eba1e73415808bf6c",
      "10629ab7e44243be965f5abea60813d2",
      "3bb49f68183443d894b0316246cf1d89",
      "c6acd4e5738b42729c6cde999946a97e",
      "c67c7320c9d2488aaeab53c420ee0577",
      "9f5b900598874ba683dc8ad515029387",
      "4c6fe04986da4bb7860ea3fcf78af40f",
      "d297c2a355794b35b82e5c90423b5eaa",
      "9b5e4e7264a64d41b70bf97333c1d27f",
      "426cdd2c571e43618931cfc9dfaa72ab",
      "2dfd5ca2c0e646fcbe9636ddb4ffcdf2",
      "8aee491d3db04951bfcb48aefa7940f6",
      "26415f89ea6e4abe90faec413e129426",
      "afe9d96707d34c9eb05e02b7cefa8932",
      "9f61ccb4e887408d837d6aec40a29b01",
      "d787acab916f4521bdc21d0519349248",
      "86e01b90026c49b484143262d9fc1a13",
      "78f565d30b7143828e64e4a791837622",
      "dec3f4b92bc04748a7f87d5363efdd95",
      "26ebed459597424bbdbfdc3509a223eb",
      "0e9cd3467cc949c695700c7851992455",
      "4eae7bb718d444d6accd8d77054474ff",
      "a21e21a2e51a4371b37d730f2b5aefbf",
      "b19bee52ee83404d87313dfd0a1f3d04",
      "6073e50174774e8aac911f699ceff3bc",
      "81f02b7f4d8e4c33b45532c9d9ce40df",
      "0ae51eb881174878957a13fe7f50ee41",
      "87946ffae51f40329e2343983747febc",
      "6df8f00ae5944d42a4ddf21ba9b98673",
      "f09e6240d46944acbc87f695e7a25b25",
      "0b360a6660c446afacacff60a266c2db",
      "aa64974ccc31490abd1d204f705d289b",
      "184d6415ee454183b187e9a5cc6aab58",
      "ddfb6c1630de44ce8a434d19ac72b205",
      "8e83a61ca61e43babaf514b849b183a6",
      "082006ff1b8c43228c952e8493ffba1a",
      "c26a0758182d4d8bb299d2cb61973480"
     ]
    },
    "id": "XAqyHumVL121",
    "outputId": "0fa22c4d-e263-459c-f4ae-b0e118896f73"
   },
   "outputs": [
    {
     "name": "stderr",
     "output_type": "stream",
     "text": [
      "/usr/local/lib/python3.11/dist-packages/transformers/convert_slow_tokenizer.py:564: UserWarning: The sentencepiece tokenizer that you are converting to a fast tokenizer uses the byte fallback option which is not implemented in the fast tokenizers. In practice this means that the fast version of the tokenizer can produce unknown tokens whereas the sentencepiece version would have converted these unknown tokens into a sequence of byte tokens matching the original piece of text.\n",
      "  warnings.warn(\n"
     ]
    },
    {
     "data": {
      "application/vnd.jupyter.widget-view+json": {
       "model_id": "17fb76523dd1484bbef0966ba0ba4240",
       "version_major": 2,
       "version_minor": 0
      },
      "text/plain": [
       "Map:   0%|          | 0/300 [00:00<?, ? examples/s]"
      ]
     },
     "metadata": {},
     "output_type": "display_data"
    },
    {
     "data": {
      "application/vnd.jupyter.widget-view+json": {
       "model_id": "951e324f8fe4491a8934242dbe5a0265",
       "version_major": 2,
       "version_minor": 0
      },
      "text/plain": [
       "Map:   0%|          | 0/299 [00:00<?, ? examples/s]"
      ]
     },
     "metadata": {},
     "output_type": "display_data"
    },
    {
     "data": {
      "application/vnd.jupyter.widget-view+json": {
       "model_id": "c67c7320c9d2488aaeab53c420ee0577",
       "version_major": 2,
       "version_minor": 0
      },
      "text/plain": [
       "Map:   0%|          | 0/1036 [00:00<?, ? examples/s]"
      ]
     },
     "metadata": {},
     "output_type": "display_data"
    },
    {
     "data": {
      "application/vnd.jupyter.widget-view+json": {
       "model_id": "d787acab916f4521bdc21d0519349248",
       "version_major": 2,
       "version_minor": 0
      },
      "text/plain": [
       "Map:   0%|          | 0/347 [00:00<?, ? examples/s]"
      ]
     },
     "metadata": {},
     "output_type": "display_data"
    },
    {
     "data": {
      "application/vnd.jupyter.widget-view+json": {
       "model_id": "0ae51eb881174878957a13fe7f50ee41",
       "version_major": 2,
       "version_minor": 0
      },
      "text/plain": [
       "Map:   0%|          | 0/250 [00:00<?, ? examples/s]"
      ]
     },
     "metadata": {},
     "output_type": "display_data"
    }
   ],
   "source": [
    "model_name = \"microsoft/mdeberta-v3-base\"\n",
    "tokenizer  = AutoTokenizer.from_pretrained(model_name)\n",
    "\n",
    "max_len = 100\n",
    "\n",
    "def tokenize(batch):\n",
    "    return tokenizer(batch['sentence'],\n",
    "                     padding='max_length',\n",
    "                     truncation=True,\n",
    "                     max_length=max_len)\n",
    "\n",
    "test_en_ds   = test_en_ds.map(tokenize, batched=True)\n",
    "test_it_ds  = test_it_ds.map(tokenize, batched=True)\n",
    "test_ar_ds   = test_ar_ds.map(tokenize, batched=True)\n",
    "test_de_ds  = test_de_ds.map(tokenize, batched=True)\n",
    "dev_test_bg_ds = dev_test_bg_ds.map(tokenize, batched=True)\n",
    "\n",
    "\n",
    "cols = ['input_ids','attention_mask','labels']\n",
    "test_en_ds    = test_en_ds.remove_columns([c for c in test_en_ds.column_names if c not in cols])\n",
    "test_it_ds   = test_it_ds.remove_columns([c for c in test_it_ds.column_names if c not in cols])\n",
    "test_ar_ds    = test_ar_ds.remove_columns([c for c in test_ar_ds.column_names if c not in cols])\n",
    "test_de_ds   = test_de_ds.remove_columns([c for c in test_de_ds.column_names if c not in cols])\n",
    "dev_test_bg_ds = dev_test_bg_ds.remove_columns([c for c in dev_test_bg_ds.column_names if c not in cols])"
   ]
  },
  {
   "cell_type": "markdown",
   "metadata": {
    "id": "38APaF2qNerr"
   },
   "source": [
    "Load the best model"
   ]
  },
  {
   "cell_type": "code",
   "execution_count": 20,
   "metadata": {
    "colab": {
     "base_uri": "https://localhost:8080/"
    },
    "id": "J-JDYj2KNd9C",
    "outputId": "8df9ee1e-6883-4ba5-eca0-bd3e4bb69530"
   },
   "outputs": [
    {
     "name": "stderr",
     "output_type": "stream",
     "text": [
      "/tmp/ipython-input-20-2252958405.py:9: FutureWarning: `tokenizer` is deprecated and will be removed in version 5.0.0 for `Trainer.__init__`. Use `processing_class` instead.\n",
      "  trainer = Trainer(\n"
     ]
    }
   ],
   "source": [
    "\n",
    "output_dir = \"/content/drive/MyDrive/clef2025-checkthat-lab-main-task1/task1/models/Multilingual_balanced\"\n",
    "model     = AutoModelForSequenceClassification.from_pretrained(output_dir)\n",
    "tokenizer = AutoTokenizer.from_pretrained(output_dir)\n",
    "\n",
    "\n",
    "data_collator = DataCollatorWithPadding(tokenizer)\n",
    "\n",
    "\n",
    "trainer = Trainer(\n",
    "    model            = model,\n",
    "    tokenizer        = tokenizer,\n",
    "    data_collator   = data_collator,\n",
    "    compute_metrics = compute_metrics\n",
    ")"
   ]
  },
  {
   "cell_type": "markdown",
   "metadata": {
    "id": "jdmlcNdNNnCR"
   },
   "source": [
    "##English"
   ]
  },
  {
   "cell_type": "markdown",
   "metadata": {
    "id": "c_NMTiKwORyk"
   },
   "source": [
    "Result for english test data(labeled): **Macro F1: 0.69961**\n",
    "\n"
   ]
  },
  {
   "cell_type": "code",
   "execution_count": 21,
   "metadata": {
    "colab": {
     "base_uri": "https://localhost:8080/",
     "height": 106
    },
    "id": "mSipVvwlN7gg",
    "outputId": "e305cdfd-b242-4782-e5ca-f2c84439866e"
   },
   "outputs": [
    {
     "data": {
      "text/html": [
       "\n",
       "    <div>\n",
       "      \n",
       "      <progress value='38' max='38' style='width:300px; height:20px; vertical-align: middle;'></progress>\n",
       "      [38/38 00:02]\n",
       "    </div>\n",
       "    "
      ],
      "text/plain": [
       "<IPython.core.display.HTML object>"
      ]
     },
     "metadata": {},
     "output_type": "display_data"
    },
    {
     "name": "stdout",
     "output_type": "stream",
     "text": [
      "Result of test data\n",
      "OBJ – Precision: 0.85128, Recall: 0.77209, F1: 0.80976\n",
      "SUBJ – Precision: 0.53333, Recall: 0.65882, F1: 0.58947\n",
      "Macro‐F1: 0.69961\n"
     ]
    }
   ],
   "source": [
    "metrics = trainer.evaluate(test_en_ds)\n",
    "\n",
    "print(\"Result of test data\")\n",
    "print(f\"OBJ – Precision: {metrics['eval_precision_OBJ']:.5f}, Recall: {metrics['eval_recall_OBJ']:.5f}, F1: {metrics['eval_f1_OBJ']:.5f}\")\n",
    "print(f\"SUBJ – Precision: {metrics['eval_precision_SUBJ']:.5f}, Recall: {metrics['eval_recall_SUBJ']:.5f}, F1: {metrics['eval_f1_SUBJ']:.5f}\")\n",
    "print(f\"Macro‐F1: {metrics['eval_macro_f1']:.5f}\")\n"
   ]
  },
  {
   "cell_type": "markdown",
   "metadata": {
    "id": "QWvpg4L3Nvqm"
   },
   "source": [
    "##Italian"
   ]
  },
  {
   "cell_type": "markdown",
   "metadata": {
    "id": "N5th3LkMOyXg"
   },
   "source": [
    "Result for italian test data(labeled): **Macro F1: 0.78619**\n",
    "\n"
   ]
  },
  {
   "cell_type": "code",
   "execution_count": 22,
   "metadata": {
    "colab": {
     "base_uri": "https://localhost:8080/",
     "height": 106
    },
    "id": "OYPBVXlEOtrq",
    "outputId": "399cc917-ac8f-45b3-e853-63b1431a0f6f"
   },
   "outputs": [
    {
     "data": {
      "text/html": [
       "\n",
       "    <div>\n",
       "      \n",
       "      <progress value='76' max='38' style='width:300px; height:20px; vertical-align: middle;'></progress>\n",
       "      [38/38 00:46]\n",
       "    </div>\n",
       "    "
      ],
      "text/plain": [
       "<IPython.core.display.HTML object>"
      ]
     },
     "metadata": {},
     "output_type": "display_data"
    },
    {
     "name": "stdout",
     "output_type": "stream",
     "text": [
      "Result of test data\n",
      "OBJ – Precision: 0.88304, Recall: 0.78646, F1: 0.83196\n",
      "SUBJ – Precision: 0.67969, Recall: 0.81308, F1: 0.74043\n",
      "Macro‐F1: 0.78619\n"
     ]
    }
   ],
   "source": [
    "metrics = trainer.evaluate(test_it_ds)\n",
    "\n",
    "print(\"Result of test data\")\n",
    "print(f\"OBJ – Precision: {metrics['eval_precision_OBJ']:.5f}, Recall: {metrics['eval_recall_OBJ']:.5f}, F1: {metrics['eval_f1_OBJ']:.5f}\")\n",
    "print(f\"SUBJ – Precision: {metrics['eval_precision_SUBJ']:.5f}, Recall: {metrics['eval_recall_SUBJ']:.5f}, F1: {metrics['eval_f1_SUBJ']:.5f}\")\n",
    "print(f\"Macro‐F1: {metrics['eval_macro_f1']:.5f}\")\n"
   ]
  },
  {
   "cell_type": "markdown",
   "metadata": {
    "id": "rKCwH3gMNxOT"
   },
   "source": [
    "##German"
   ]
  },
  {
   "cell_type": "markdown",
   "metadata": {
    "id": "tE60_p0lPDCp"
   },
   "source": [
    "Result for germany test data(labeled): **Macro F1: 0.78619**\n",
    "\n"
   ]
  },
  {
   "cell_type": "code",
   "execution_count": 23,
   "metadata": {
    "colab": {
     "base_uri": "https://localhost:8080/",
     "height": 106
    },
    "id": "yVYcihDxOuU-",
    "outputId": "f1fe233d-c17e-4ecc-daf6-1e1e9d5b94c8"
   },
   "outputs": [
    {
     "data": {
      "text/html": [
       "\n",
       "    <div>\n",
       "      \n",
       "      <progress value='120' max='38' style='width:300px; height:20px; vertical-align: middle;'></progress>\n",
       "      [38/38 01:50]\n",
       "    </div>\n",
       "    "
      ],
      "text/plain": [
       "<IPython.core.display.HTML object>"
      ]
     },
     "metadata": {},
     "output_type": "display_data"
    },
    {
     "name": "stdout",
     "output_type": "stream",
     "text": [
      "Result of test data\n",
      "OBJ – Precision: 0.83004, Recall: 0.91703, F1: 0.87137\n",
      "SUBJ – Precision: 0.79787, Recall: 0.63559, F1: 0.70755\n",
      "Macro‐F1: 0.78946\n"
     ]
    }
   ],
   "source": [
    "metrics = trainer.evaluate(test_de_ds)\n",
    "\n",
    "print(\"Result of test data\")\n",
    "print(f\"OBJ – Precision: {metrics['eval_precision_OBJ']:.5f}, Recall: {metrics['eval_recall_OBJ']:.5f}, F1: {metrics['eval_f1_OBJ']:.5f}\")\n",
    "print(f\"SUBJ – Precision: {metrics['eval_precision_SUBJ']:.5f}, Recall: {metrics['eval_recall_SUBJ']:.5f}, F1: {metrics['eval_f1_SUBJ']:.5f}\")\n",
    "print(f\"Macro‐F1: {metrics['eval_macro_f1']:.5f}\")\n"
   ]
  },
  {
   "cell_type": "markdown",
   "metadata": {
    "id": "XfjhxihjNzC2"
   },
   "source": [
    "##Arabic"
   ]
  },
  {
   "cell_type": "markdown",
   "metadata": {
    "id": "R7qWzgUUPOeK"
   },
   "source": [
    "Result for arabic test data(labeled): **Macro F1: 0.68439**\n",
    "\n"
   ]
  },
  {
   "cell_type": "code",
   "execution_count": 24,
   "metadata": {
    "colab": {
     "base_uri": "https://localhost:8080/",
     "height": 106
    },
    "id": "kgeRfpvtOvA6",
    "outputId": "254d93bd-5699-44a3-cb58-3f85964634e6"
   },
   "outputs": [
    {
     "data": {
      "text/html": [
       "\n",
       "    <div>\n",
       "      \n",
       "      <progress value='250' max='38' style='width:300px; height:20px; vertical-align: middle;'></progress>\n",
       "      [38/38 02:36]\n",
       "    </div>\n",
       "    "
      ],
      "text/plain": [
       "<IPython.core.display.HTML object>"
      ]
     },
     "metadata": {},
     "output_type": "display_data"
    },
    {
     "name": "stdout",
     "output_type": "stream",
     "text": [
      "Result of test data\n",
      "OBJ – Precision: 0.81513, Recall: 0.80055, F1: 0.80777\n",
      "SUBJ – Precision: 0.54969, Recall: 0.57282, F1: 0.56101\n",
      "Macro‐F1: 0.68439\n"
     ]
    }
   ],
   "source": [
    "metrics = trainer.evaluate(test_ar_ds)\n",
    "\n",
    "print(\"Result of test data\")\n",
    "print(f\"OBJ – Precision: {metrics['eval_precision_OBJ']:.5f}, Recall: {metrics['eval_recall_OBJ']:.5f}, F1: {metrics['eval_f1_OBJ']:.5f}\")\n",
    "print(f\"SUBJ – Precision: {metrics['eval_precision_SUBJ']:.5f}, Recall: {metrics['eval_recall_SUBJ']:.5f}, F1: {metrics['eval_f1_SUBJ']:.5f}\")\n",
    "print(f\"Macro‐F1: {metrics['eval_macro_f1']:.5f}\")\n"
   ]
  },
  {
   "cell_type": "markdown",
   "metadata": {
    "id": "LmHQ_fs5N075"
   },
   "source": [
    "##Bulgarian"
   ]
  },
  {
   "cell_type": "markdown",
   "metadata": {
    "id": "XZSjVmjkPgTE"
   },
   "source": [
    "Result for dev test data: **0.72036**"
   ]
  },
  {
   "cell_type": "code",
   "execution_count": 25,
   "metadata": {
    "colab": {
     "base_uri": "https://localhost:8080/",
     "height": 106
    },
    "id": "xCeXm5U-NmWo",
    "outputId": "ea5c9774-3eef-48ad-96ed-8b8dcfc4215d"
   },
   "outputs": [
    {
     "data": {
      "text/html": [
       "\n",
       "    <div>\n",
       "      \n",
       "      <progress value='282' max='38' style='width:300px; height:20px; vertical-align: middle;'></progress>\n",
       "      [38/38 03:43]\n",
       "    </div>\n",
       "    "
      ],
      "text/plain": [
       "<IPython.core.display.HTML object>"
      ]
     },
     "metadata": {},
     "output_type": "display_data"
    },
    {
     "name": "stdout",
     "output_type": "stream",
     "text": [
      "Result of test data\n",
      "OBJ – Precision: 0.74051, Recall: 0.81818, F1: 0.77741\n",
      "SUBJ – Precision: 0.71739, Recall: 0.61682, F1: 0.66332\n",
      "Macro‐F1: 0.72036\n"
     ]
    }
   ],
   "source": [
    "metrics = trainer.evaluate(dev_test_bg_ds)\n",
    "\n",
    "print(\"Result of test data\")\n",
    "print(f\"OBJ – Precision: {metrics['eval_precision_OBJ']:.5f}, Recall: {metrics['eval_recall_OBJ']:.5f}, F1: {metrics['eval_f1_OBJ']:.5f}\")\n",
    "print(f\"SUBJ – Precision: {metrics['eval_precision_SUBJ']:.5f}, Recall: {metrics['eval_recall_SUBJ']:.5f}, F1: {metrics['eval_f1_SUBJ']:.5f}\")\n",
    "print(f\"Macro‐F1: {metrics['eval_macro_f1']:.5f}\")\n"
   ]
  }
 ],
 "metadata": {
  "accelerator": "GPU",
  "colab": {
   "gpuType": "T4",
   "provenance": []
  },
  "kernelspec": {
   "display_name": "Python 3",
   "name": "python3"
  },
  "language_info": {
   "name": "python"
  }
 },
 "nbformat": 4,
 "nbformat_minor": 0
}
